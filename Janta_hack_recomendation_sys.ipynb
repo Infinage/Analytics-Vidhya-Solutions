{
  "nbformat": 4,
  "nbformat_minor": 0,
  "metadata": {
    "colab": {
      "name": "Janta_hack_recomendation_sys.ipynb",
      "provenance": [],
      "collapsed_sections": []
    },
    "kernelspec": {
      "display_name": "Python 3",
      "language": "python",
      "name": "python3"
    },
    "language_info": {
      "codemirror_mode": {
        "name": "ipython",
        "version": 3
      },
      "file_extension": ".py",
      "mimetype": "text/x-python",
      "name": "python",
      "nbconvert_exporter": "python",
      "pygments_lexer": "ipython3",
      "version": "3.8.3"
    }
  },
  "cells": [
    {
      "cell_type": "markdown",
      "metadata": {
        "id": "hhRtxNrLV8iM",
        "colab_type": "text"
      },
      "source": [
        "#### Loading neccessary modules:"
      ]
    },
    {
      "cell_type": "code",
      "metadata": {
        "colab_type": "code",
        "id": "BpEPTKiHQtfs",
        "colab": {}
      },
      "source": [
        "import numpy as np\n",
        "import pandas as pd\n",
        "import matplotlib.pyplot as plt\n",
        "import tensorflow as tf\n",
        "import tqdm\n",
        "\n",
        "plt.style.use('dark_background')\n",
        "\n",
        "tqdm.tqdm.pandas()\n",
        "\n",
        "%matplotlib inline"
      ],
      "execution_count": 1,
      "outputs": []
    },
    {
      "cell_type": "code",
      "metadata": {
        "colab_type": "code",
        "id": "zYQnugmyQtgI",
        "colab": {
          "base_uri": "https://localhost:8080/",
          "height": 86
        },
        "outputId": "103444a2-8945-45ff-8d8b-e8d95ca5f829"
      },
      "source": [
        "! unzip *.zip\n",
        "! ls"
      ],
      "execution_count": 2,
      "outputs": [
        {
          "output_type": "stream",
          "text": [
            "Archive:  data.zip\n",
            "replace train.csv? [y]es, [n]o, [A]ll, [N]one, [r]ename: 3D_lstm_sub.csv     naive_approach.csv\t\t\t   temp_model.h5\n",
            "challenge_data.csv  sample_data\t\t\t\t   test.csv\n",
            "data.zip\t    sample_submission_J0OjXLi_DDt3uQN.csv  train.csv\n"
          ],
          "name": "stdout"
        }
      ]
    },
    {
      "cell_type": "code",
      "metadata": {
        "colab_type": "code",
        "id": "dexpYu1fQtgc",
        "colab": {
          "base_uri": "https://localhost:8080/",
          "height": 34
        },
        "outputId": "2aa2d01d-477b-47e6-c0b7-ad8571cf5a41"
      },
      "source": [
        "train = pd.read_csv(\"train.csv\")\n",
        "challenge_data = pd.read_csv(\"challenge_data.csv\", parse_dates=['publish_date'], infer_datetime_format=True)\n",
        "test = pd.read_csv(\"test.csv\")\n",
        "sample_sub = pd.read_csv(\"sample_submission_J0OjXLi_DDt3uQN.csv\")\n",
        "\n",
        "train.shape, test.shape, sample_sub.shape, challenge_data.shape"
      ],
      "execution_count": 3,
      "outputs": [
        {
          "output_type": "execute_result",
          "data": {
            "text/plain": [
              "((903916, 4), (397320, 4), (119196, 2), (5606, 9))"
            ]
          },
          "metadata": {
            "tags": []
          },
          "execution_count": 3
        }
      ]
    },
    {
      "cell_type": "markdown",
      "metadata": {
        "colab_type": "text",
        "id": "vUYRWNWlQtgq"
      },
      "source": [
        "### EDA:"
      ]
    },
    {
      "cell_type": "code",
      "metadata": {
        "colab_type": "code",
        "id": "kCYu4-bkQtgt",
        "colab": {
          "base_uri": "https://localhost:8080/",
          "height": 206
        },
        "outputId": "a8747817-6601-4333-f7b3-f4408ae5cc01"
      },
      "source": [
        "train.head()"
      ],
      "execution_count": 3,
      "outputs": [
        {
          "output_type": "execute_result",
          "data": {
            "text/html": [
              "<div>\n",
              "<style scoped>\n",
              "    .dataframe tbody tr th:only-of-type {\n",
              "        vertical-align: middle;\n",
              "    }\n",
              "\n",
              "    .dataframe tbody tr th {\n",
              "        vertical-align: top;\n",
              "    }\n",
              "\n",
              "    .dataframe thead th {\n",
              "        text-align: right;\n",
              "    }\n",
              "</style>\n",
              "<table border=\"1\" class=\"dataframe\">\n",
              "  <thead>\n",
              "    <tr style=\"text-align: right;\">\n",
              "      <th></th>\n",
              "      <th>user_sequence</th>\n",
              "      <th>user_id</th>\n",
              "      <th>challenge_sequence</th>\n",
              "      <th>challenge</th>\n",
              "    </tr>\n",
              "  </thead>\n",
              "  <tbody>\n",
              "    <tr>\n",
              "      <th>0</th>\n",
              "      <td>4576_1</td>\n",
              "      <td>4576</td>\n",
              "      <td>1</td>\n",
              "      <td>CI23714</td>\n",
              "    </tr>\n",
              "    <tr>\n",
              "      <th>1</th>\n",
              "      <td>4576_2</td>\n",
              "      <td>4576</td>\n",
              "      <td>2</td>\n",
              "      <td>CI23855</td>\n",
              "    </tr>\n",
              "    <tr>\n",
              "      <th>2</th>\n",
              "      <td>4576_3</td>\n",
              "      <td>4576</td>\n",
              "      <td>3</td>\n",
              "      <td>CI24917</td>\n",
              "    </tr>\n",
              "    <tr>\n",
              "      <th>3</th>\n",
              "      <td>4576_4</td>\n",
              "      <td>4576</td>\n",
              "      <td>4</td>\n",
              "      <td>CI23663</td>\n",
              "    </tr>\n",
              "    <tr>\n",
              "      <th>4</th>\n",
              "      <td>4576_5</td>\n",
              "      <td>4576</td>\n",
              "      <td>5</td>\n",
              "      <td>CI23933</td>\n",
              "    </tr>\n",
              "  </tbody>\n",
              "</table>\n",
              "</div>"
            ],
            "text/plain": [
              "  user_sequence  user_id  challenge_sequence challenge\n",
              "0        4576_1     4576                   1   CI23714\n",
              "1        4576_2     4576                   2   CI23855\n",
              "2        4576_3     4576                   3   CI24917\n",
              "3        4576_4     4576                   4   CI23663\n",
              "4        4576_5     4576                   5   CI23933"
            ]
          },
          "metadata": {
            "tags": []
          },
          "execution_count": 3
        }
      ]
    },
    {
      "cell_type": "code",
      "metadata": {
        "colab_type": "code",
        "id": "WJ6ziVPWQtg6",
        "colab": {
          "base_uri": "https://localhost:8080/",
          "height": 206
        },
        "outputId": "ce3906df-c478-4759-bbf0-809be61787aa"
      },
      "source": [
        "test.head()"
      ],
      "execution_count": 4,
      "outputs": [
        {
          "output_type": "execute_result",
          "data": {
            "text/html": [
              "<div>\n",
              "<style scoped>\n",
              "    .dataframe tbody tr th:only-of-type {\n",
              "        vertical-align: middle;\n",
              "    }\n",
              "\n",
              "    .dataframe tbody tr th {\n",
              "        vertical-align: top;\n",
              "    }\n",
              "\n",
              "    .dataframe thead th {\n",
              "        text-align: right;\n",
              "    }\n",
              "</style>\n",
              "<table border=\"1\" class=\"dataframe\">\n",
              "  <thead>\n",
              "    <tr style=\"text-align: right;\">\n",
              "      <th></th>\n",
              "      <th>user_sequence</th>\n",
              "      <th>user_id</th>\n",
              "      <th>challenge_sequence</th>\n",
              "      <th>challenge</th>\n",
              "    </tr>\n",
              "  </thead>\n",
              "  <tbody>\n",
              "    <tr>\n",
              "      <th>0</th>\n",
              "      <td>4577_1</td>\n",
              "      <td>4577</td>\n",
              "      <td>1</td>\n",
              "      <td>CI23855</td>\n",
              "    </tr>\n",
              "    <tr>\n",
              "      <th>1</th>\n",
              "      <td>4577_2</td>\n",
              "      <td>4577</td>\n",
              "      <td>2</td>\n",
              "      <td>CI23933</td>\n",
              "    </tr>\n",
              "    <tr>\n",
              "      <th>2</th>\n",
              "      <td>4577_3</td>\n",
              "      <td>4577</td>\n",
              "      <td>3</td>\n",
              "      <td>CI24917</td>\n",
              "    </tr>\n",
              "    <tr>\n",
              "      <th>3</th>\n",
              "      <td>4577_4</td>\n",
              "      <td>4577</td>\n",
              "      <td>4</td>\n",
              "      <td>CI24915</td>\n",
              "    </tr>\n",
              "    <tr>\n",
              "      <th>4</th>\n",
              "      <td>4577_5</td>\n",
              "      <td>4577</td>\n",
              "      <td>5</td>\n",
              "      <td>CI23714</td>\n",
              "    </tr>\n",
              "  </tbody>\n",
              "</table>\n",
              "</div>"
            ],
            "text/plain": [
              "  user_sequence  user_id  challenge_sequence challenge\n",
              "0        4577_1     4577                   1   CI23855\n",
              "1        4577_2     4577                   2   CI23933\n",
              "2        4577_3     4577                   3   CI24917\n",
              "3        4577_4     4577                   4   CI24915\n",
              "4        4577_5     4577                   5   CI23714"
            ]
          },
          "metadata": {
            "tags": []
          },
          "execution_count": 4
        }
      ]
    },
    {
      "cell_type": "code",
      "metadata": {
        "colab_type": "code",
        "id": "D_GqpDC4QthG",
        "colab": {
          "base_uri": "https://localhost:8080/",
          "height": 226
        },
        "outputId": "e88de189-8c42-4a35-cb01-5fbdb7640e5d"
      },
      "source": [
        "challenge_data.head()"
      ],
      "execution_count": 5,
      "outputs": [
        {
          "output_type": "execute_result",
          "data": {
            "text/html": [
              "<div>\n",
              "<style scoped>\n",
              "    .dataframe tbody tr th:only-of-type {\n",
              "        vertical-align: middle;\n",
              "    }\n",
              "\n",
              "    .dataframe tbody tr th {\n",
              "        vertical-align: top;\n",
              "    }\n",
              "\n",
              "    .dataframe thead th {\n",
              "        text-align: right;\n",
              "    }\n",
              "</style>\n",
              "<table border=\"1\" class=\"dataframe\">\n",
              "  <thead>\n",
              "    <tr style=\"text-align: right;\">\n",
              "      <th></th>\n",
              "      <th>challenge_ID</th>\n",
              "      <th>programming_language</th>\n",
              "      <th>challenge_series_ID</th>\n",
              "      <th>total_submissions</th>\n",
              "      <th>publish_date</th>\n",
              "      <th>author_ID</th>\n",
              "      <th>author_gender</th>\n",
              "      <th>author_org_ID</th>\n",
              "      <th>category_id</th>\n",
              "    </tr>\n",
              "  </thead>\n",
              "  <tbody>\n",
              "    <tr>\n",
              "      <th>0</th>\n",
              "      <td>CI23478</td>\n",
              "      <td>2</td>\n",
              "      <td>SI2445</td>\n",
              "      <td>37.0</td>\n",
              "      <td>2006-06-05</td>\n",
              "      <td>AI563576</td>\n",
              "      <td>M</td>\n",
              "      <td>AOI100001</td>\n",
              "      <td>NaN</td>\n",
              "    </tr>\n",
              "    <tr>\n",
              "      <th>1</th>\n",
              "      <td>CI23479</td>\n",
              "      <td>2</td>\n",
              "      <td>SI2435</td>\n",
              "      <td>48.0</td>\n",
              "      <td>2002-10-17</td>\n",
              "      <td>AI563577</td>\n",
              "      <td>M</td>\n",
              "      <td>AOI100002</td>\n",
              "      <td>32.0</td>\n",
              "    </tr>\n",
              "    <tr>\n",
              "      <th>2</th>\n",
              "      <td>CI23480</td>\n",
              "      <td>1</td>\n",
              "      <td>SI2435</td>\n",
              "      <td>15.0</td>\n",
              "      <td>2002-10-16</td>\n",
              "      <td>AI563578</td>\n",
              "      <td>M</td>\n",
              "      <td>AOI100003</td>\n",
              "      <td>NaN</td>\n",
              "    </tr>\n",
              "    <tr>\n",
              "      <th>3</th>\n",
              "      <td>CI23481</td>\n",
              "      <td>1</td>\n",
              "      <td>SI2710</td>\n",
              "      <td>236.0</td>\n",
              "      <td>2003-09-19</td>\n",
              "      <td>AI563579</td>\n",
              "      <td>M</td>\n",
              "      <td>AOI100004</td>\n",
              "      <td>70.0</td>\n",
              "    </tr>\n",
              "    <tr>\n",
              "      <th>4</th>\n",
              "      <td>CI23482</td>\n",
              "      <td>2</td>\n",
              "      <td>SI2440</td>\n",
              "      <td>137.0</td>\n",
              "      <td>2002-03-21</td>\n",
              "      <td>AI563580</td>\n",
              "      <td>M</td>\n",
              "      <td>AOI100005</td>\n",
              "      <td>NaN</td>\n",
              "    </tr>\n",
              "  </tbody>\n",
              "</table>\n",
              "</div>"
            ],
            "text/plain": [
              "  challenge_ID  programming_language  ... author_org_ID  category_id\n",
              "0      CI23478                     2  ...     AOI100001          NaN\n",
              "1      CI23479                     2  ...     AOI100002         32.0\n",
              "2      CI23480                     1  ...     AOI100003          NaN\n",
              "3      CI23481                     1  ...     AOI100004         70.0\n",
              "4      CI23482                     2  ...     AOI100005          NaN\n",
              "\n",
              "[5 rows x 9 columns]"
            ]
          },
          "metadata": {
            "tags": []
          },
          "execution_count": 5
        }
      ]
    },
    {
      "cell_type": "code",
      "metadata": {
        "colab_type": "code",
        "id": "M0zMizGnQthU",
        "colab": {
          "base_uri": "https://localhost:8080/",
          "height": 206
        },
        "outputId": "f43dec4f-9d9b-4128-85f9-b7dd4d73ce83"
      },
      "source": [
        "sample_sub.head()"
      ],
      "execution_count": 6,
      "outputs": [
        {
          "output_type": "execute_result",
          "data": {
            "text/html": [
              "<div>\n",
              "<style scoped>\n",
              "    .dataframe tbody tr th:only-of-type {\n",
              "        vertical-align: middle;\n",
              "    }\n",
              "\n",
              "    .dataframe tbody tr th {\n",
              "        vertical-align: top;\n",
              "    }\n",
              "\n",
              "    .dataframe thead th {\n",
              "        text-align: right;\n",
              "    }\n",
              "</style>\n",
              "<table border=\"1\" class=\"dataframe\">\n",
              "  <thead>\n",
              "    <tr style=\"text-align: right;\">\n",
              "      <th></th>\n",
              "      <th>user_sequence</th>\n",
              "      <th>challenge</th>\n",
              "    </tr>\n",
              "  </thead>\n",
              "  <tbody>\n",
              "    <tr>\n",
              "      <th>0</th>\n",
              "      <td>4577_11</td>\n",
              "      <td>CI23648</td>\n",
              "    </tr>\n",
              "    <tr>\n",
              "      <th>1</th>\n",
              "      <td>4577_12</td>\n",
              "      <td>CI23648</td>\n",
              "    </tr>\n",
              "    <tr>\n",
              "      <th>2</th>\n",
              "      <td>4577_13</td>\n",
              "      <td>CI23648</td>\n",
              "    </tr>\n",
              "    <tr>\n",
              "      <th>3</th>\n",
              "      <td>4578_11</td>\n",
              "      <td>CI23648</td>\n",
              "    </tr>\n",
              "    <tr>\n",
              "      <th>4</th>\n",
              "      <td>4578_12</td>\n",
              "      <td>CI23648</td>\n",
              "    </tr>\n",
              "  </tbody>\n",
              "</table>\n",
              "</div>"
            ],
            "text/plain": [
              "  user_sequence challenge\n",
              "0       4577_11   CI23648\n",
              "1       4577_12   CI23648\n",
              "2       4577_13   CI23648\n",
              "3       4578_11   CI23648\n",
              "4       4578_12   CI23648"
            ]
          },
          "metadata": {
            "tags": []
          },
          "execution_count": 6
        }
      ]
    },
    {
      "cell_type": "code",
      "metadata": {
        "colab_type": "code",
        "id": "BZ3g6NHSQthd",
        "colab": {
          "base_uri": "https://localhost:8080/",
          "height": 208
        },
        "outputId": "d9db4997-a21e-47cf-fb79-0602ac200e33"
      },
      "source": [
        "train.info()"
      ],
      "execution_count": 7,
      "outputs": [
        {
          "output_type": "stream",
          "text": [
            "<class 'pandas.core.frame.DataFrame'>\n",
            "RangeIndex: 903916 entries, 0 to 903915\n",
            "Data columns (total 4 columns):\n",
            " #   Column              Non-Null Count   Dtype \n",
            "---  ------              --------------   ----- \n",
            " 0   user_sequence       903916 non-null  object\n",
            " 1   user_id             903916 non-null  int64 \n",
            " 2   challenge_sequence  903916 non-null  int64 \n",
            " 3   challenge           903916 non-null  object\n",
            "dtypes: int64(2), object(2)\n",
            "memory usage: 27.6+ MB\n"
          ],
          "name": "stdout"
        }
      ]
    },
    {
      "cell_type": "markdown",
      "metadata": {
        "colab_type": "text",
        "id": "-ibqbKM0Qthl"
      },
      "source": [
        "The `user_sequence` and the `challenge_sequence` seems rather redundant. Let's check if we can drop the column:"
      ]
    },
    {
      "cell_type": "code",
      "metadata": {
        "colab_type": "code",
        "id": "HHFg_8dlQtho",
        "colab": {
          "base_uri": "https://localhost:8080/",
          "height": 34
        },
        "outputId": "9d6db4b3-0a2b-4fa1-db84-1f1215e09a2f"
      },
      "source": [
        "(\n",
        "    (train.user_sequence.str.extract(\"_(\\d+)\")[0].astype(int) == train.challenge_sequence).all(),\n",
        "    (test.user_sequence.str.extract(\"_(\\d+)\")[0].astype(int) == test.challenge_sequence).all(),\n",
        ")"
      ],
      "execution_count": 8,
      "outputs": [
        {
          "output_type": "execute_result",
          "data": {
            "text/plain": [
              "(True, True)"
            ]
          },
          "metadata": {
            "tags": []
          },
          "execution_count": 8
        }
      ]
    },
    {
      "cell_type": "code",
      "metadata": {
        "colab_type": "code",
        "id": "1aS_YQOoQthz",
        "colab": {}
      },
      "source": [
        "test.drop(\"user_sequence\", axis=1, inplace=True)"
      ],
      "execution_count": 4,
      "outputs": []
    },
    {
      "cell_type": "code",
      "metadata": {
        "colab_type": "code",
        "id": "kBk4OSLsQtiG",
        "colab": {}
      },
      "source": [
        "train.drop(\"user_sequence\", axis=1, inplace=True)"
      ],
      "execution_count": 5,
      "outputs": []
    },
    {
      "cell_type": "markdown",
      "metadata": {
        "colab_type": "text",
        "id": "L4ZpqtUbQtiR"
      },
      "source": [
        "How many users, challenges are we dealing with?"
      ]
    },
    {
      "cell_type": "code",
      "metadata": {
        "colab_type": "code",
        "id": "cHRolAmlQtiT",
        "colab": {
          "base_uri": "https://localhost:8080/",
          "height": 86
        },
        "outputId": "f52e3e1a-ccae-49f0-c920-e6458a0362a4"
      },
      "source": [
        "train.nunique()"
      ],
      "execution_count": 11,
      "outputs": [
        {
          "output_type": "execute_result",
          "data": {
            "text/plain": [
              "user_id               69532\n",
              "challenge_sequence       13\n",
              "challenge              5348\n",
              "dtype: int64"
            ]
          },
          "metadata": {
            "tags": []
          },
          "execution_count": 11
        }
      ]
    },
    {
      "cell_type": "code",
      "metadata": {
        "colab_type": "code",
        "id": "qit64HNnQtie",
        "colab": {
          "base_uri": "https://localhost:8080/",
          "height": 34
        },
        "outputId": "786052aa-bf47-4b43-c689-ce5b1c1828b4"
      },
      "source": [
        "challenge_data.challenge_ID.nunique()"
      ],
      "execution_count": 12,
      "outputs": [
        {
          "output_type": "execute_result",
          "data": {
            "text/plain": [
              "5606"
            ]
          },
          "metadata": {
            "tags": []
          },
          "execution_count": 12
        }
      ]
    },
    {
      "cell_type": "markdown",
      "metadata": {
        "colab_type": "text",
        "id": "Jz4a-NS2Qtin"
      },
      "source": [
        "Note that the challenge data has ID's that are not present in the train dataset, perhaps for use in the test dataset."
      ]
    },
    {
      "cell_type": "code",
      "metadata": {
        "colab_type": "code",
        "id": "HMWmStPiQtip",
        "colab": {
          "base_uri": "https://localhost:8080/",
          "height": 34
        },
        "outputId": "ce8006a7-00b2-4524-ba22-072c348aba14"
      },
      "source": [
        "# sanity-check. All user appear only 13 times?\n",
        "(train.user_id.value_counts() == 13).all()"
      ],
      "execution_count": 13,
      "outputs": [
        {
          "output_type": "execute_result",
          "data": {
            "text/plain": [
              "True"
            ]
          },
          "metadata": {
            "tags": []
          },
          "execution_count": 13
        }
      ]
    },
    {
      "cell_type": "markdown",
      "metadata": {
        "colab_type": "text",
        "id": "frTXu2iDQtiz"
      },
      "source": [
        "### Check for missing data:\n",
        "\n",
        "While the test and train donot have missing values, the challenge data is quite challenging with a quite a lot of missing data ;)"
      ]
    },
    {
      "cell_type": "code",
      "metadata": {
        "colab_type": "code",
        "id": "TYT_iCB2Qti0",
        "colab": {
          "base_uri": "https://localhost:8080/",
          "height": 34
        },
        "outputId": "ab731186-7c13-4782-c340-bebef73b9124"
      },
      "source": [
        "train.isna().sum().sum(), test.isna().sum().sum()"
      ],
      "execution_count": 14,
      "outputs": [
        {
          "output_type": "execute_result",
          "data": {
            "text/plain": [
              "(0, 0)"
            ]
          },
          "metadata": {
            "tags": []
          },
          "execution_count": 14
        }
      ]
    },
    {
      "cell_type": "code",
      "metadata": {
        "colab_type": "code",
        "id": "M5_ZH-AoQti8",
        "colab": {
          "base_uri": "https://localhost:8080/",
          "height": 374
        },
        "outputId": "ceea7293-7d46-44bb-c3e8-f644bde047a5"
      },
      "source": [
        "temp = challenge_data.isna().sum().sort_values()\n",
        "ax = temp.plot(kind='barh', figsize=(10, 6), color='g')\n",
        "for i, (name, value) in enumerate(temp.iteritems()):\n",
        "    ax.text(value, i, value, fontdict={\"size\":12})"
      ],
      "execution_count": 15,
      "outputs": [
        {
          "output_type": "display_data",
          "data": {
            "image/png": "[encoded data removed]",
            "text/plain": [
              "<Figure size 720x432 with 1 Axes>"
            ]
          },
          "metadata": {
            "tags": [],
            "needs_background": "dark"
          }
        }
      ]
    },
    {
      "cell_type": "markdown",
      "metadata": {
        "colab_type": "text",
        "id": "sF9Qs8Y7QtjF"
      },
      "source": [
        "#### Let's first visualise the distribution of the challenges:\n",
        "\n",
        "The dist is so skewed that we have to visualize them with `log` scale:"
      ]
    },
    {
      "cell_type": "code",
      "metadata": {
        "colab_type": "code",
        "id": "3Oh21qeyQtjG",
        "colab": {
          "base_uri": "https://localhost:8080/",
          "height": 442
        },
        "outputId": "0fc6137e-e551-42de-b5b6-a03d21c35aab"
      },
      "source": [
        "train.challenge.value_counts().plot(kind='hist', figsize=(15, 7),  bins=40, grid=1)\n",
        "plt.yscale('log')\n",
        "plt.xlabel(\"Total Submissions\")\n",
        "plt.ylabel(\"Frequency\")\n",
        "plt.hlines(.05*1e4, 0, 1e4, label='5% of Max Frequency', \n",
        "           color='w', linestyles='dashed')\n",
        "\n",
        "plt.xticks(range(0, int(1e4+1), 500))\n",
        "plt.legend();"
      ],
      "execution_count": 16,
      "outputs": [
        {
          "output_type": "display_data",
          "data": {
            "image/png": "[encoded data removed]",
            "text/plain": [
              "<Figure size 1080x504 with 1 Axes>"
            ]
          },
          "metadata": {
            "tags": [],
            "needs_background": "dark"
          }
        }
      ]
    },
    {
      "cell_type": "markdown",
      "metadata": {
        "colab_type": "text",
        "id": "jlMHzljmQtjN"
      },
      "source": [
        "Majority of the challenges have been attempted less than 500 times. Nearly 95% of challenges have been attempted less than 500 times. Only about 5% of the challenges were attempted more than 500 times!"
      ]
    },
    {
      "cell_type": "code",
      "metadata": {
        "colab_type": "code",
        "id": "ySNoxMtIQtjQ",
        "colab": {
          "base_uri": "https://localhost:8080/",
          "height": 52
        },
        "outputId": "b5eb2532-867c-4ba0-e65d-65abd3445ebc"
      },
      "source": [
        "print (\n",
        "    \"% of challenges attempted more than 500 times:\", \n",
        "    (train.challenge.value_counts() > 500).sum() / train.challenge.nunique() * 100\n",
        ")\n",
        "\n",
        "print (\n",
        "    \"% of challenges attempted less than 500 times:\", \n",
        "    (train.challenge.value_counts() < 500).sum() / train.challenge.nunique() * 100\n",
        ")"
      ],
      "execution_count": 17,
      "outputs": [
        {
          "output_type": "stream",
          "text": [
            "% of challenges attempted more than 500 times: 7.984293193717278\n",
            "% of challenges attempted less than 500 times: 92.01570680628272\n"
          ],
          "name": "stdout"
        }
      ]
    },
    {
      "cell_type": "markdown",
      "metadata": {
        "colab_type": "text",
        "id": "1c8CZ3I5QtjY"
      },
      "source": [
        "#### Let's check out in depth about these top 10 best performing challenges & worst performing challenges:"
      ]
    },
    {
      "cell_type": "code",
      "metadata": {
        "colab_type": "code",
        "id": "uEc_W5YZQtjZ",
        "colab": {
          "base_uri": "https://localhost:8080/",
          "height": 383
        },
        "outputId": "28de045d-53b2-41b8-cf1e-3d3c1e7bc7e9"
      },
      "source": [
        "challenge_data.loc[challenge_data.challenge_ID.isin(train.challenge.value_counts().nlargest(10).index)]"
      ],
      "execution_count": 18,
      "outputs": [
        {
          "output_type": "execute_result",
          "data": {
            "text/html": [
              "<div>\n",
              "<style scoped>\n",
              "    .dataframe tbody tr th:only-of-type {\n",
              "        vertical-align: middle;\n",
              "    }\n",
              "\n",
              "    .dataframe tbody tr th {\n",
              "        vertical-align: top;\n",
              "    }\n",
              "\n",
              "    .dataframe thead th {\n",
              "        text-align: right;\n",
              "    }\n",
              "</style>\n",
              "<table border=\"1\" class=\"dataframe\">\n",
              "  <thead>\n",
              "    <tr style=\"text-align: right;\">\n",
              "      <th></th>\n",
              "      <th>challenge_ID</th>\n",
              "      <th>programming_language</th>\n",
              "      <th>challenge_series_ID</th>\n",
              "      <th>total_submissions</th>\n",
              "      <th>publish_date</th>\n",
              "      <th>author_ID</th>\n",
              "      <th>author_gender</th>\n",
              "      <th>author_org_ID</th>\n",
              "      <th>category_id</th>\n",
              "    </tr>\n",
              "  </thead>\n",
              "  <tbody>\n",
              "    <tr>\n",
              "      <th>185</th>\n",
              "      <td>CI23663</td>\n",
              "      <td>1</td>\n",
              "      <td>SI2472</td>\n",
              "      <td>8897.0</td>\n",
              "      <td>2004-09-15</td>\n",
              "      <td>AI563724</td>\n",
              "      <td>M</td>\n",
              "      <td>AOI100098</td>\n",
              "      <td>45.0</td>\n",
              "    </tr>\n",
              "    <tr>\n",
              "      <th>213</th>\n",
              "      <td>CI23691</td>\n",
              "      <td>1</td>\n",
              "      <td>SI2469</td>\n",
              "      <td>4823.0</td>\n",
              "      <td>2005-05-25</td>\n",
              "      <td>AI563749</td>\n",
              "      <td>M</td>\n",
              "      <td>AOI100125</td>\n",
              "      <td>33.0</td>\n",
              "    </tr>\n",
              "    <tr>\n",
              "      <th>236</th>\n",
              "      <td>CI23714</td>\n",
              "      <td>1</td>\n",
              "      <td>SI2477</td>\n",
              "      <td>14723.0</td>\n",
              "      <td>2006-12-06</td>\n",
              "      <td>AI563766</td>\n",
              "      <td>M</td>\n",
              "      <td>AOI100129</td>\n",
              "      <td>29.0</td>\n",
              "    </tr>\n",
              "    <tr>\n",
              "      <th>370</th>\n",
              "      <td>CI23848</td>\n",
              "      <td>1</td>\n",
              "      <td>SI2472</td>\n",
              "      <td>3395.0</td>\n",
              "      <td>2004-09-16</td>\n",
              "      <td>AI563867</td>\n",
              "      <td>M</td>\n",
              "      <td>AOI100204</td>\n",
              "      <td>61.0</td>\n",
              "    </tr>\n",
              "    <tr>\n",
              "      <th>377</th>\n",
              "      <td>CI23855</td>\n",
              "      <td>1</td>\n",
              "      <td>SI2468</td>\n",
              "      <td>20993.0</td>\n",
              "      <td>2006-07-24</td>\n",
              "      <td>AI563823</td>\n",
              "      <td>M</td>\n",
              "      <td>NaN</td>\n",
              "      <td>29.0</td>\n",
              "    </tr>\n",
              "    <tr>\n",
              "      <th>455</th>\n",
              "      <td>CI23933</td>\n",
              "      <td>1</td>\n",
              "      <td>SI2468</td>\n",
              "      <td>15086.0</td>\n",
              "      <td>2006-07-27</td>\n",
              "      <td>AI563783</td>\n",
              "      <td>M</td>\n",
              "      <td>AOI100149</td>\n",
              "      <td>31.0</td>\n",
              "    </tr>\n",
              "    <tr>\n",
              "      <th>1052</th>\n",
              "      <td>CI24530</td>\n",
              "      <td>1</td>\n",
              "      <td>SI2501</td>\n",
              "      <td>6814.0</td>\n",
              "      <td>2006-09-26</td>\n",
              "      <td>AI563815</td>\n",
              "      <td>M</td>\n",
              "      <td>AOI100173</td>\n",
              "      <td>29.0</td>\n",
              "    </tr>\n",
              "    <tr>\n",
              "      <th>1439</th>\n",
              "      <td>CI24917</td>\n",
              "      <td>1</td>\n",
              "      <td>SI2545</td>\n",
              "      <td>43409.0</td>\n",
              "      <td>2007-02-07</td>\n",
              "      <td>AI564588</td>\n",
              "      <td>F</td>\n",
              "      <td>AOI100581</td>\n",
              "      <td>66.0</td>\n",
              "    </tr>\n",
              "    <tr>\n",
              "      <th>1480</th>\n",
              "      <td>CI24958</td>\n",
              "      <td>1</td>\n",
              "      <td>SI2545</td>\n",
              "      <td>6842.0</td>\n",
              "      <td>2007-09-07</td>\n",
              "      <td>AI564617</td>\n",
              "      <td>F</td>\n",
              "      <td>AOI100085</td>\n",
              "      <td>41.0</td>\n",
              "    </tr>\n",
              "    <tr>\n",
              "      <th>1657</th>\n",
              "      <td>CI25135</td>\n",
              "      <td>1</td>\n",
              "      <td>SI2556</td>\n",
              "      <td>5446.0</td>\n",
              "      <td>2007-08-25</td>\n",
              "      <td>AI563754</td>\n",
              "      <td>M</td>\n",
              "      <td>AOI100129</td>\n",
              "      <td>61.0</td>\n",
              "    </tr>\n",
              "  </tbody>\n",
              "</table>\n",
              "</div>"
            ],
            "text/plain": [
              "     challenge_ID  programming_language  ... author_org_ID  category_id\n",
              "185       CI23663                     1  ...     AOI100098         45.0\n",
              "213       CI23691                     1  ...     AOI100125         33.0\n",
              "236       CI23714                     1  ...     AOI100129         29.0\n",
              "370       CI23848                     1  ...     AOI100204         61.0\n",
              "377       CI23855                     1  ...           NaN         29.0\n",
              "455       CI23933                     1  ...     AOI100149         31.0\n",
              "1052      CI24530                     1  ...     AOI100173         29.0\n",
              "1439      CI24917                     1  ...     AOI100581         66.0\n",
              "1480      CI24958                     1  ...     AOI100085         41.0\n",
              "1657      CI25135                     1  ...     AOI100129         61.0\n",
              "\n",
              "[10 rows x 9 columns]"
            ]
          },
          "metadata": {
            "tags": []
          },
          "execution_count": 18
        }
      ]
    },
    {
      "cell_type": "code",
      "metadata": {
        "colab_type": "code",
        "id": "3T6RX75YQtjh",
        "colab": {
          "base_uri": "https://localhost:8080/",
          "height": 383
        },
        "outputId": "0169f4f6-9207-463a-8cb0-a0ae347f401c"
      },
      "source": [
        "challenge_data.loc[challenge_data.challenge_ID.isin(train.challenge.value_counts().nsmallest(10).index)]"
      ],
      "execution_count": 19,
      "outputs": [
        {
          "output_type": "execute_result",
          "data": {
            "text/html": [
              "<div>\n",
              "<style scoped>\n",
              "    .dataframe tbody tr th:only-of-type {\n",
              "        vertical-align: middle;\n",
              "    }\n",
              "\n",
              "    .dataframe tbody tr th {\n",
              "        vertical-align: top;\n",
              "    }\n",
              "\n",
              "    .dataframe thead th {\n",
              "        text-align: right;\n",
              "    }\n",
              "</style>\n",
              "<table border=\"1\" class=\"dataframe\">\n",
              "  <thead>\n",
              "    <tr style=\"text-align: right;\">\n",
              "      <th></th>\n",
              "      <th>challenge_ID</th>\n",
              "      <th>programming_language</th>\n",
              "      <th>challenge_series_ID</th>\n",
              "      <th>total_submissions</th>\n",
              "      <th>publish_date</th>\n",
              "      <th>author_ID</th>\n",
              "      <th>author_gender</th>\n",
              "      <th>author_org_ID</th>\n",
              "      <th>category_id</th>\n",
              "    </tr>\n",
              "  </thead>\n",
              "  <tbody>\n",
              "    <tr>\n",
              "      <th>21</th>\n",
              "      <td>CI23499</td>\n",
              "      <td>2</td>\n",
              "      <td>SI2437</td>\n",
              "      <td>35.0</td>\n",
              "      <td>2006-10-14</td>\n",
              "      <td>AI563596</td>\n",
              "      <td>M</td>\n",
              "      <td>AOI100011</td>\n",
              "      <td>23.0</td>\n",
              "    </tr>\n",
              "    <tr>\n",
              "      <th>2178</th>\n",
              "      <td>CI25656</td>\n",
              "      <td>1</td>\n",
              "      <td>SI2526</td>\n",
              "      <td>199.0</td>\n",
              "      <td>2007-11-29</td>\n",
              "      <td>AI565132</td>\n",
              "      <td>M</td>\n",
              "      <td>AOI100894</td>\n",
              "      <td>57.0</td>\n",
              "    </tr>\n",
              "    <tr>\n",
              "      <th>2482</th>\n",
              "      <td>CI25960</td>\n",
              "      <td>1</td>\n",
              "      <td>SI2602</td>\n",
              "      <td>236.0</td>\n",
              "      <td>2007-11-10</td>\n",
              "      <td>AI565333</td>\n",
              "      <td>F</td>\n",
              "      <td>AOI100999</td>\n",
              "      <td>97.0</td>\n",
              "    </tr>\n",
              "    <tr>\n",
              "      <th>2614</th>\n",
              "      <td>CI26092</td>\n",
              "      <td>1</td>\n",
              "      <td>SI2627</td>\n",
              "      <td>44.0</td>\n",
              "      <td>2008-11-03</td>\n",
              "      <td>AI565432</td>\n",
              "      <td>M</td>\n",
              "      <td>AOI101042</td>\n",
              "      <td>26.0</td>\n",
              "    </tr>\n",
              "    <tr>\n",
              "      <th>2785</th>\n",
              "      <td>CI26272</td>\n",
              "      <td>1</td>\n",
              "      <td>SI2641</td>\n",
              "      <td>51.0</td>\n",
              "      <td>2008-04-22</td>\n",
              "      <td>AI565512</td>\n",
              "      <td>M</td>\n",
              "      <td>AOI101005</td>\n",
              "      <td>163.0</td>\n",
              "    </tr>\n",
              "    <tr>\n",
              "      <th>3935</th>\n",
              "      <td>CI27431</td>\n",
              "      <td>1</td>\n",
              "      <td>SI2690</td>\n",
              "      <td>32.0</td>\n",
              "      <td>2008-10-21</td>\n",
              "      <td>AI566158</td>\n",
              "      <td>M</td>\n",
              "      <td>AOI100609</td>\n",
              "      <td>214.0</td>\n",
              "    </tr>\n",
              "    <tr>\n",
              "      <th>4520</th>\n",
              "      <td>CI28054</td>\n",
              "      <td>3</td>\n",
              "      <td>SI2757</td>\n",
              "      <td>17.0</td>\n",
              "      <td>2008-02-14</td>\n",
              "      <td>AI566489</td>\n",
              "      <td>M</td>\n",
              "      <td>AOI101451</td>\n",
              "      <td>192.0</td>\n",
              "    </tr>\n",
              "    <tr>\n",
              "      <th>5181</th>\n",
              "      <td>CI28959</td>\n",
              "      <td>1</td>\n",
              "      <td>SI2850</td>\n",
              "      <td>24.0</td>\n",
              "      <td>2009-12-17</td>\n",
              "      <td>AI566838</td>\n",
              "      <td>M</td>\n",
              "      <td>AOI101514</td>\n",
              "      <td>NaN</td>\n",
              "    </tr>\n",
              "    <tr>\n",
              "      <th>5543</th>\n",
              "      <td>CI28901</td>\n",
              "      <td>1</td>\n",
              "      <td>SI2838</td>\n",
              "      <td>NaN</td>\n",
              "      <td>2009-12-12</td>\n",
              "      <td>AI565727</td>\n",
              "      <td>M</td>\n",
              "      <td>AOI101183</td>\n",
              "      <td>NaN</td>\n",
              "    </tr>\n",
              "    <tr>\n",
              "      <th>5579</th>\n",
              "      <td>CI29047</td>\n",
              "      <td>1</td>\n",
              "      <td>SI2860</td>\n",
              "      <td>NaN</td>\n",
              "      <td>2010-08-05</td>\n",
              "      <td>AI567042</td>\n",
              "      <td>M</td>\n",
              "      <td>AOI101707</td>\n",
              "      <td>28.0</td>\n",
              "    </tr>\n",
              "  </tbody>\n",
              "</table>\n",
              "</div>"
            ],
            "text/plain": [
              "     challenge_ID  programming_language  ... author_org_ID  category_id\n",
              "21        CI23499                     2  ...     AOI100011         23.0\n",
              "2178      CI25656                     1  ...     AOI100894         57.0\n",
              "2482      CI25960                     1  ...     AOI100999         97.0\n",
              "2614      CI26092                     1  ...     AOI101042         26.0\n",
              "2785      CI26272                     1  ...     AOI101005        163.0\n",
              "3935      CI27431                     1  ...     AOI100609        214.0\n",
              "4520      CI28054                     3  ...     AOI101451        192.0\n",
              "5181      CI28959                     1  ...     AOI101514          NaN\n",
              "5543      CI28901                     1  ...     AOI101183          NaN\n",
              "5579      CI29047                     1  ...     AOI101707         28.0\n",
              "\n",
              "[10 rows x 9 columns]"
            ]
          },
          "metadata": {
            "tags": []
          },
          "execution_count": 19
        }
      ]
    },
    {
      "cell_type": "markdown",
      "metadata": {
        "colab_type": "text",
        "id": "6ZUsaKxKQtjp"
      },
      "source": [
        "##### Let's find out what the most popular pgming choice for first attempt, second attempt and so on for a user would be from the train dataset:"
      ]
    },
    {
      "cell_type": "code",
      "metadata": {
        "colab_type": "code",
        "id": "TSLHrrTQQtjr",
        "colab": {
          "base_uri": "https://localhost:8080/",
          "height": 86
        },
        "outputId": "2b271e0a-0787-42c7-b924-95e31a0e07a7"
      },
      "source": [
        "temp = train.groupby([\"challenge_sequence\"])[\"challenge\"].apply(lambda x: x.value_counts().nlargest(50).index.to_list())\n",
        "most_pop_train = np.unique(np.ravel(temp.to_list()), return_counts=True)\n",
        "most_pop_train = most_pop_train[0][np.argsort(most_pop_train[1])[::-1][:20]]\n",
        "most_pop_train"
      ],
      "execution_count": 20,
      "outputs": [
        {
          "output_type": "execute_result",
          "data": {
            "text/plain": [
              "array(['CI24530', 'CI24527', 'CI24915', 'CI24917', 'CI24958', 'CI24187',\n",
              "       'CI25135', 'CI23848', 'CI23855', 'CI23933', 'CI24138', 'CI25075',\n",
              "       'CI25124', 'CI23714', 'CI24876', 'CI24866', 'CI24534', 'CI24532',\n",
              "       'CI23769', 'CI25126'], dtype='<U7')"
            ]
          },
          "metadata": {
            "tags": []
          },
          "execution_count": 20
        }
      ]
    },
    {
      "cell_type": "code",
      "metadata": {
        "colab_type": "code",
        "id": "X1Ui8ORCQtj0",
        "colab": {
          "base_uri": "https://localhost:8080/",
          "height": 175
        },
        "outputId": "8f9a7c0c-87a8-4fa0-947e-2fdb885729da"
      },
      "source": [
        "challenge_data[challenge_data.challenge_ID.isin(most_pop_train)].describe(include='object')"
      ],
      "execution_count": 21,
      "outputs": [
        {
          "output_type": "execute_result",
          "data": {
            "text/html": [
              "<div>\n",
              "<style scoped>\n",
              "    .dataframe tbody tr th:only-of-type {\n",
              "        vertical-align: middle;\n",
              "    }\n",
              "\n",
              "    .dataframe tbody tr th {\n",
              "        vertical-align: top;\n",
              "    }\n",
              "\n",
              "    .dataframe thead th {\n",
              "        text-align: right;\n",
              "    }\n",
              "</style>\n",
              "<table border=\"1\" class=\"dataframe\">\n",
              "  <thead>\n",
              "    <tr style=\"text-align: right;\">\n",
              "      <th></th>\n",
              "      <th>challenge_ID</th>\n",
              "      <th>challenge_series_ID</th>\n",
              "      <th>author_ID</th>\n",
              "      <th>author_gender</th>\n",
              "      <th>author_org_ID</th>\n",
              "    </tr>\n",
              "  </thead>\n",
              "  <tbody>\n",
              "    <tr>\n",
              "      <th>count</th>\n",
              "      <td>20</td>\n",
              "      <td>20</td>\n",
              "      <td>20</td>\n",
              "      <td>20</td>\n",
              "      <td>19</td>\n",
              "    </tr>\n",
              "    <tr>\n",
              "      <th>unique</th>\n",
              "      <td>20</td>\n",
              "      <td>10</td>\n",
              "      <td>19</td>\n",
              "      <td>2</td>\n",
              "      <td>14</td>\n",
              "    </tr>\n",
              "    <tr>\n",
              "      <th>top</th>\n",
              "      <td>CI24915</td>\n",
              "      <td>SI2501</td>\n",
              "      <td>AI563754</td>\n",
              "      <td>M</td>\n",
              "      <td>AOI100085</td>\n",
              "    </tr>\n",
              "    <tr>\n",
              "      <th>freq</th>\n",
              "      <td>1</td>\n",
              "      <td>4</td>\n",
              "      <td>2</td>\n",
              "      <td>16</td>\n",
              "      <td>3</td>\n",
              "    </tr>\n",
              "  </tbody>\n",
              "</table>\n",
              "</div>"
            ],
            "text/plain": [
              "       challenge_ID challenge_series_ID author_ID author_gender author_org_ID\n",
              "count            20                  20        20            20            19\n",
              "unique           20                  10        19             2            14\n",
              "top         CI24915              SI2501  AI563754             M     AOI100085\n",
              "freq              1                   4         2            16             3"
            ]
          },
          "metadata": {
            "tags": []
          },
          "execution_count": 21
        }
      ]
    },
    {
      "cell_type": "markdown",
      "metadata": {
        "colab_type": "text",
        "id": "SDZv-WkoQtj7"
      },
      "source": [
        "Lets cheat a bit and check what we have got in the test data as well and see how similar they are:"
      ]
    },
    {
      "cell_type": "code",
      "metadata": {
        "colab_type": "code",
        "id": "AYbfVecSQtj9",
        "colab": {
          "base_uri": "https://localhost:8080/",
          "height": 86
        },
        "outputId": "ac874f32-5125-49fe-c908-4e5b5e98b61a"
      },
      "source": [
        "temp = test.groupby(\"challenge_sequence\")[\"challenge\"].apply(lambda x: x.value_counts().nlargest(50).index.to_list())\n",
        "\n",
        "most_pop_test = np.unique(np.ravel(temp.to_list()), return_counts=True)\n",
        "most_pop_test = most_pop_test[0][np.argsort(most_pop_test[1])[::-1][:20]]\n",
        "most_pop_test"
      ],
      "execution_count": 22,
      "outputs": [
        {
          "output_type": "execute_result",
          "data": {
            "text/plain": [
              "array(['CI24527', 'CI24915', 'CI24917', 'CI24530', 'CI24187', 'CI25135',\n",
              "       'CI23848', 'CI23855', 'CI23933', 'CI24138', 'CI25126', 'CI25075',\n",
              "       'CI23714', 'CI24958', 'CI24876', 'CI24866', 'CI24534', 'CI23769',\n",
              "       'CI24532', 'CI23913'], dtype='<U7')"
            ]
          },
          "metadata": {
            "tags": []
          },
          "execution_count": 22
        }
      ]
    },
    {
      "cell_type": "code",
      "metadata": {
        "colab_type": "code",
        "id": "tQ-sgvhJQtkF",
        "colab": {
          "base_uri": "https://localhost:8080/",
          "height": 34
        },
        "outputId": "02977d78-19a4-4c4d-d985-e4403ac32fbb"
      },
      "source": [
        "len(most_pop_train), len(most_pop_test)"
      ],
      "execution_count": 23,
      "outputs": [
        {
          "output_type": "execute_result",
          "data": {
            "text/plain": [
              "(20, 20)"
            ]
          },
          "metadata": {
            "tags": []
          },
          "execution_count": 23
        }
      ]
    },
    {
      "cell_type": "code",
      "metadata": {
        "colab_type": "code",
        "id": "21bUX8hcQtkS",
        "colab": {
          "base_uri": "https://localhost:8080/",
          "height": 34
        },
        "outputId": "bb93a5d9-c1e1-4766-d123-0242e38d33c6"
      },
      "source": [
        "len(np.intersect1d(most_pop_train, most_pop_test))"
      ],
      "execution_count": 24,
      "outputs": [
        {
          "output_type": "execute_result",
          "data": {
            "text/plain": [
              "19"
            ]
          },
          "metadata": {
            "tags": []
          },
          "execution_count": 24
        }
      ]
    },
    {
      "cell_type": "code",
      "metadata": {
        "colab_type": "code",
        "id": "mhml5VguQtkZ",
        "colab": {
          "base_uri": "https://localhost:8080/",
          "height": 34
        },
        "outputId": "2b42b6de-f0f2-45ae-b493-1271f9dadf51"
      },
      "source": [
        "np.setdiff1d(most_pop_test, most_pop_train), np.setdiff1d(most_pop_train, most_pop_test)"
      ],
      "execution_count": 25,
      "outputs": [
        {
          "output_type": "execute_result",
          "data": {
            "text/plain": [
              "(array(['CI23913'], dtype='<U7'), array(['CI25124'], dtype='<U7'))"
            ]
          },
          "metadata": {
            "tags": []
          },
          "execution_count": 25
        }
      ]
    },
    {
      "cell_type": "markdown",
      "metadata": {
        "colab_type": "text",
        "id": "3n9mXGd_Qtkg"
      },
      "source": [
        "The most popular ones in the test dataset are still the same as in the train dataset with the exception of a very few."
      ]
    },
    {
      "cell_type": "markdown",
      "metadata": {
        "colab_type": "text",
        "id": "ka0DS6YKQtkh"
      },
      "source": [
        "#### Let's dive into performing EDA on challenge_data:"
      ]
    },
    {
      "cell_type": "code",
      "metadata": {
        "colab_type": "code",
        "id": "kmnHUlHfQtkj",
        "colab": {
          "base_uri": "https://localhost:8080/",
          "height": 295
        },
        "outputId": "be065c55-344e-40d0-b752-ac00154e4504"
      },
      "source": [
        "challenge_data.info()"
      ],
      "execution_count": 26,
      "outputs": [
        {
          "output_type": "stream",
          "text": [
            "<class 'pandas.core.frame.DataFrame'>\n",
            "RangeIndex: 5606 entries, 0 to 5605\n",
            "Data columns (total 9 columns):\n",
            " #   Column                Non-Null Count  Dtype         \n",
            "---  ------                --------------  -----         \n",
            " 0   challenge_ID          5606 non-null   object        \n",
            " 1   programming_language  5606 non-null   int64         \n",
            " 2   challenge_series_ID   5594 non-null   object        \n",
            " 3   total_submissions     5254 non-null   float64       \n",
            " 4   publish_date          5606 non-null   datetime64[ns]\n",
            " 5   author_ID             5567 non-null   object        \n",
            " 6   author_gender         5509 non-null   object        \n",
            " 7   author_org_ID         5358 non-null   object        \n",
            " 8   category_id           3765 non-null   float64       \n",
            "dtypes: datetime64[ns](1), float64(2), int64(1), object(5)\n",
            "memory usage: 394.3+ KB\n"
          ],
          "name": "stdout"
        }
      ]
    },
    {
      "cell_type": "markdown",
      "metadata": {
        "colab_type": "text",
        "id": "em4kde2RQtko"
      },
      "source": [
        "How many unique values?"
      ]
    },
    {
      "cell_type": "code",
      "metadata": {
        "colab_type": "code",
        "id": "M9o_B1auQtkp",
        "colab": {
          "base_uri": "https://localhost:8080/",
          "height": 191
        },
        "outputId": "b68c5a30-af9c-4036-868b-48c033469f8f"
      },
      "source": [
        "challenge_data.nunique()"
      ],
      "execution_count": 27,
      "outputs": [
        {
          "output_type": "execute_result",
          "data": {
            "text/plain": [
              "challenge_ID            5606\n",
              "programming_language       3\n",
              "challenge_series_ID      435\n",
              "total_submissions       1067\n",
              "publish_date            1145\n",
              "author_ID               3484\n",
              "author_gender              2\n",
              "author_org_ID           1717\n",
              "category_id              194\n",
              "dtype: int64"
            ]
          },
          "metadata": {
            "tags": []
          },
          "execution_count": 27
        }
      ]
    },
    {
      "cell_type": "markdown",
      "metadata": {
        "colab_type": "text",
        "id": "_8AklBVqQtkv"
      },
      "source": [
        "Which programming language is the most popular?"
      ]
    },
    {
      "cell_type": "code",
      "metadata": {
        "colab_type": "code",
        "id": "VQpIa7V6Qtkx",
        "colab": {
          "base_uri": "https://localhost:8080/",
          "height": 427
        },
        "outputId": "77013f83-4b42-4439-bd36-524b9b43da1a"
      },
      "source": [
        "(challenge_data\n",
        " .groupby(\"programming_language\")\n",
        " ['total_submissions'].sum()\n",
        " .plot(kind='pie', figsize=(7, 7), \n",
        "       autopct=lambda x: '{0:2.1f}'.format(x),\n",
        "      title='Language Popularity', cmap='Dark2'))\n",
        "\n",
        "plt.legend();"
      ],
      "execution_count": 28,
      "outputs": [
        {
          "output_type": "display_data",
          "data": {
            "image/png": "[encoded data removed]",
            "text/plain": [
              "<Figure size 504x504 with 1 Axes>"
            ]
          },
          "metadata": {
            "tags": []
          }
        }
      ]
    },
    {
      "cell_type": "code",
      "metadata": {
        "colab_type": "code",
        "id": "FvkAbBqkQtk4",
        "colab": {
          "base_uri": "https://localhost:8080/",
          "height": 350
        },
        "outputId": "26a0da30-f052-4f71-df9c-6f6959fb78b2"
      },
      "source": [
        "challenge_data.author_ID.value_counts().plot(kind='hist', bins=35, figsize=(15, 5), grid=True)\n",
        "plt.yscale('log')\n",
        "plt.title(\"Vast majority of Authors have prepared very few challenges!\")\n",
        "plt.ylabel(\"Author Count\")\n",
        "plt.xlabel(\"No. of challenges made\")\n",
        "plt.xticks(range(0, 100, 5));"
      ],
      "execution_count": 29,
      "outputs": [
        {
          "output_type": "display_data",
          "data": {
            "image/png": "[encoded data removed]",
            "text/plain": [
              "<Figure size 1080x360 with 1 Axes>"
            ]
          },
          "metadata": {
            "tags": [],
            "needs_background": "dark"
          }
        }
      ]
    },
    {
      "cell_type": "markdown",
      "metadata": {
        "colab_type": "text",
        "id": "IffR76wfQtk9"
      },
      "source": [
        "Lets rank the authors according to their contribution:"
      ]
    },
    {
      "cell_type": "code",
      "metadata": {
        "colab_type": "code",
        "id": "WOmq2InXQtk-",
        "colab": {
          "base_uri": "https://localhost:8080/",
          "height": 357
        },
        "outputId": "d13960d0-33ff-4bf4-dc71-b65f9eda8a09"
      },
      "source": [
        "f, ax = plt.subplots(ncols=2, figsize=(20, 5))\n",
        "\n",
        "gender_map = {\"M\": (1, 0, 0), \"F\": (0, 0, 1)}\n",
        "top_n = 15\n",
        "\n",
        "# Lets check out the authors who have produced the greatest no of challenges\n",
        "temp = (challenge_data.groupby('author_ID')\n",
        "        .agg({\"challenge_ID\":'count', \"author_gender\": 'max'})\n",
        "        .nlargest(top_n, columns=['challenge_ID']))\n",
        "\n",
        "temp['challenge_ID'].plot(kind='bar', ax=ax[0], rot=45, color=temp[\"author_gender\"].map(gender_map))\n",
        "ax[0].set_title(\"Authors who made largest no of challenges\");\n",
        "\n",
        "# Lets check out the authors who have produced the greatest no of challenge series\n",
        "temp = (challenge_data.groupby('author_ID')\n",
        "        .agg({\"challenge_series_ID\":'count', \"author_gender\": 'max'})\n",
        "        .nlargest(top_n, columns=['challenge_series_ID']))\n",
        "\n",
        "temp['challenge_series_ID'].plot(kind='bar', ax=ax[1], rot=45, color=temp[\"author_gender\"].map(gender_map))\n",
        "ax[1].set_title(\"Authors who made largest no of challenge series\");"
      ],
      "execution_count": 30,
      "outputs": [
        {
          "output_type": "display_data",
          "data": {
            "image/png": "[encoded data removed]",
            "text/plain": [
              "<Figure size 1440x360 with 2 Axes>"
            ]
          },
          "metadata": {
            "tags": [],
            "needs_background": "dark"
          }
        }
      ]
    },
    {
      "cell_type": "markdown",
      "metadata": {
        "colab_type": "text",
        "id": "-Kv_Ex3SQtlE"
      },
      "source": [
        "Let's group the author and check for their popularity:"
      ]
    },
    {
      "cell_type": "code",
      "metadata": {
        "colab_type": "code",
        "id": "PfEikC7YQtlG",
        "colab": {
          "base_uri": "https://localhost:8080/",
          "height": 390
        },
        "outputId": "1b5ca879-6746-4689-8ef4-dbe4cc76a3b4"
      },
      "source": [
        "# one author has much larger success than the others almost 2x the others\n",
        "challenge_data.groupby('author_ID')['total_submissions'].sum().nlargest(20).plot(kind='bar', figsize=(15, 5))"
      ],
      "execution_count": 31,
      "outputs": [
        {
          "output_type": "execute_result",
          "data": {
            "text/plain": [
              "<matplotlib.axes._subplots.AxesSubplot at 0x7f19d58d6710>"
            ]
          },
          "metadata": {
            "tags": []
          },
          "execution_count": 31
        },
        {
          "output_type": "display_data",
          "data": {
            "image/png": "[encoded data removed]",
            "text/plain": [
              "<Figure size 1080x360 with 1 Axes>"
            ]
          },
          "metadata": {
            "tags": [],
            "needs_background": "dark"
          }
        }
      ]
    },
    {
      "cell_type": "markdown",
      "metadata": {
        "colab_type": "text",
        "id": "zwTb_fhaQtlP"
      },
      "source": [
        "##### Let's count the number of users and the total number of challenges available:"
      ]
    },
    {
      "cell_type": "code",
      "metadata": {
        "colab_type": "code",
        "id": "ux6JLDnbQtlQ",
        "colab": {
          "base_uri": "https://localhost:8080/",
          "height": 34
        },
        "outputId": "e8a7de7f-86f2-48f8-e442-7732de208c25"
      },
      "source": [
        "n_users = np.unique(np.concatenate((train.user_id.unique(), test.user_id.unique()))).shape[0]\n",
        "\n",
        "n_challenges = challenge_data.challenge_ID.nunique()\n",
        "\n",
        "n_users, n_challenges"
      ],
      "execution_count": 5,
      "outputs": [
        {
          "output_type": "execute_result",
          "data": {
            "text/plain": [
              "(109264, 5606)"
            ]
          },
          "metadata": {
            "tags": []
          },
          "execution_count": 5
        }
      ]
    },
    {
      "cell_type": "markdown",
      "metadata": {
        "colab_type": "text",
        "id": "16Qv0AM5QtlW"
      },
      "source": [
        "It seems that train and test data have entirely different set of users that we need to recommend for:"
      ]
    },
    {
      "cell_type": "code",
      "metadata": {
        "colab_type": "code",
        "id": "cn8CTa80QtlX",
        "colab": {
          "base_uri": "https://localhost:8080/",
          "height": 34
        },
        "outputId": "bb4a48da-3e56-4364-e3c4-3381f825559c"
      },
      "source": [
        "np.intersect1d(train.user_id.unique(), test.user_id.unique())"
      ],
      "execution_count": 6,
      "outputs": [
        {
          "output_type": "execute_result",
          "data": {
            "text/plain": [
              "array([], dtype=int64)"
            ]
          },
          "metadata": {
            "tags": []
          },
          "execution_count": 6
        }
      ]
    },
    {
      "cell_type": "markdown",
      "metadata": {
        "colab_type": "text",
        "id": "Dno70T5LQtlc"
      },
      "source": [
        "### One Naive approach:\n",
        "Before we start with the actual modelling lets submit a naive solution of suggesting the most popular ones from the train dataset randomly provided the user hasn't already attempted the same challenge:\n",
        "\n",
        "`Note:` The competition uses MAP (mean avg precision) where the order matters (partially). If all our guesses are correct then the order is irrelevant, however if we have a incorrect prediction before a correct one, then our score goes down. *Therefore, __It is important to put our best guesses first.__* "
      ]
    },
    {
      "cell_type": "code",
      "metadata": {
        "colab_type": "code",
        "id": "JqTomstoQtld",
        "colab": {
          "base_uri": "https://localhost:8080/",
          "height": 52
        },
        "outputId": "547c15f4-b366-4882-b85f-97d439f9f799"
      },
      "source": [
        "# Luckily no user ever reattempts a solved pbm\n",
        "train.groupby(\"user_id\")[\"challenge\"].progress_apply(lambda x: x.nunique()).min()"
      ],
      "execution_count": 34,
      "outputs": [
        {
          "output_type": "stream",
          "text": [
            "100%|██████████| 69532/69532 [00:15<00:00, 4483.24it/s]\n"
          ],
          "name": "stderr"
        },
        {
          "output_type": "execute_result",
          "data": {
            "text/plain": [
              "13"
            ]
          },
          "metadata": {
            "tags": []
          },
          "execution_count": 34
        }
      ]
    },
    {
      "cell_type": "code",
      "metadata": {
        "colab_type": "code",
        "id": "AB_3YU5BQtlj",
        "colab": {
          "base_uri": "https://localhost:8080/",
          "height": 223
        },
        "outputId": "a58b73bd-198b-4c80-f3b1-b151ed69f7c2"
      },
      "source": [
        "temp = (test.groupby(\"user_id\")[\"challenge\"].progress_apply(\n",
        "    lambda x: pd.Series(np.setdiff1d(most_pop_test, x, assume_unique=True)[:3]))\n",
        ").reset_index()\n",
        "\n",
        "temp[\"user_sequence\"] = temp['user_id'].astype(str) + \"_\" + (temp['level_1'] + 11).astype(str)\n",
        "temp = temp.loc[:, [\"user_sequence\", \"challenge\"]]\n",
        "temp.head()"
      ],
      "execution_count": 35,
      "outputs": [
        {
          "output_type": "stream",
          "text": [
            "100%|██████████| 39732/39732 [00:15<00:00, 2551.17it/s]\n"
          ],
          "name": "stderr"
        },
        {
          "output_type": "execute_result",
          "data": {
            "text/html": [
              "<div>\n",
              "<style scoped>\n",
              "    .dataframe tbody tr th:only-of-type {\n",
              "        vertical-align: middle;\n",
              "    }\n",
              "\n",
              "    .dataframe tbody tr th {\n",
              "        vertical-align: top;\n",
              "    }\n",
              "\n",
              "    .dataframe thead th {\n",
              "        text-align: right;\n",
              "    }\n",
              "</style>\n",
              "<table border=\"1\" class=\"dataframe\">\n",
              "  <thead>\n",
              "    <tr style=\"text-align: right;\">\n",
              "      <th></th>\n",
              "      <th>user_sequence</th>\n",
              "      <th>challenge</th>\n",
              "    </tr>\n",
              "  </thead>\n",
              "  <tbody>\n",
              "    <tr>\n",
              "      <th>0</th>\n",
              "      <td>4577_11</td>\n",
              "      <td>CI24527</td>\n",
              "    </tr>\n",
              "    <tr>\n",
              "      <th>1</th>\n",
              "      <td>4577_12</td>\n",
              "      <td>CI24187</td>\n",
              "    </tr>\n",
              "    <tr>\n",
              "      <th>2</th>\n",
              "      <td>4577_13</td>\n",
              "      <td>CI23848</td>\n",
              "    </tr>\n",
              "    <tr>\n",
              "      <th>3</th>\n",
              "      <td>4578_11</td>\n",
              "      <td>CI24527</td>\n",
              "    </tr>\n",
              "    <tr>\n",
              "      <th>4</th>\n",
              "      <td>4578_12</td>\n",
              "      <td>CI24530</td>\n",
              "    </tr>\n",
              "  </tbody>\n",
              "</table>\n",
              "</div>"
            ],
            "text/plain": [
              "  user_sequence challenge\n",
              "0       4577_11   CI24527\n",
              "1       4577_12   CI24187\n",
              "2       4577_13   CI23848\n",
              "3       4578_11   CI24527\n",
              "4       4578_12   CI24530"
            ]
          },
          "metadata": {
            "tags": []
          },
          "execution_count": 35
        }
      ]
    },
    {
      "cell_type": "code",
      "metadata": {
        "colab_type": "code",
        "id": "sv6DEOOeQtlo",
        "colab": {}
      },
      "source": [
        "temp.to_csv(\"naive_approach.csv\", index=False)"
      ],
      "execution_count": 36,
      "outputs": []
    },
    {
      "cell_type": "markdown",
      "metadata": {
        "colab_type": "text",
        "id": "yAUKlnOKQtls"
      },
      "source": [
        "That made a score of 0.0096363636."
      ]
    },
    {
      "cell_type": "markdown",
      "metadata": {
        "colab_type": "text",
        "id": "jFlAONLe5ZqW"
      },
      "source": [
        "#### Modelling the data:\n",
        "\n",
        "Let's make a LSTM model that given a sequence tries to predict the next possible recommendation. \n",
        "\n",
        "Each sequence is fed thrice to our model along with partial predictions. Its job is to simply predict the next in sequence given 10 challenges + *partial_challenges* as input. Let's prepare the dataframe just for that:"
      ]
    },
    {
      "cell_type": "code",
      "metadata": {
        "colab_type": "code",
        "id": "ByJjxBJ35ZqW",
        "colab": {
          "base_uri": "https://localhost:8080/",
          "height": 206
        },
        "outputId": "aba99742-6bd0-478b-fc70-9136273df91e"
      },
      "source": [
        "# we combine the test and train to be able to create\n",
        "# a mapping for the challenges\n",
        "data = pd.concat([train, test])\n",
        "data.challenge = data.challenge.astype(\"category\")\n",
        "\n",
        "# let's create and save the mapping\n",
        "rev_mapping = dict(enumerate(data.challenge.cat.categories))\n",
        "mapping = dict(map(lambda x: (x[1], x[0]), rev_mapping.items()))\n",
        "\n",
        "# let's now convert them into codes\n",
        "data['ccode'] = data.challenge.map(mapping).astype(int)\n",
        "\n",
        "data.head()"
      ],
      "execution_count": 6,
      "outputs": [
        {
          "output_type": "execute_result",
          "data": {
            "text/html": [
              "<div>\n",
              "<style scoped>\n",
              "    .dataframe tbody tr th:only-of-type {\n",
              "        vertical-align: middle;\n",
              "    }\n",
              "\n",
              "    .dataframe tbody tr th {\n",
              "        vertical-align: top;\n",
              "    }\n",
              "\n",
              "    .dataframe thead th {\n",
              "        text-align: right;\n",
              "    }\n",
              "</style>\n",
              "<table border=\"1\" class=\"dataframe\">\n",
              "  <thead>\n",
              "    <tr style=\"text-align: right;\">\n",
              "      <th></th>\n",
              "      <th>user_id</th>\n",
              "      <th>challenge_sequence</th>\n",
              "      <th>challenge</th>\n",
              "      <th>ccode</th>\n",
              "    </tr>\n",
              "  </thead>\n",
              "  <tbody>\n",
              "    <tr>\n",
              "      <th>0</th>\n",
              "      <td>4576</td>\n",
              "      <td>1</td>\n",
              "      <td>CI23714</td>\n",
              "      <td>233</td>\n",
              "    </tr>\n",
              "    <tr>\n",
              "      <th>1</th>\n",
              "      <td>4576</td>\n",
              "      <td>2</td>\n",
              "      <td>CI23855</td>\n",
              "      <td>374</td>\n",
              "    </tr>\n",
              "    <tr>\n",
              "      <th>2</th>\n",
              "      <td>4576</td>\n",
              "      <td>3</td>\n",
              "      <td>CI24917</td>\n",
              "      <td>1421</td>\n",
              "    </tr>\n",
              "    <tr>\n",
              "      <th>3</th>\n",
              "      <td>4576</td>\n",
              "      <td>4</td>\n",
              "      <td>CI23663</td>\n",
              "      <td>182</td>\n",
              "    </tr>\n",
              "    <tr>\n",
              "      <th>4</th>\n",
              "      <td>4576</td>\n",
              "      <td>5</td>\n",
              "      <td>CI23933</td>\n",
              "      <td>451</td>\n",
              "    </tr>\n",
              "  </tbody>\n",
              "</table>\n",
              "</div>"
            ],
            "text/plain": [
              "   user_id  challenge_sequence challenge  ccode\n",
              "0     4576                   1   CI23714    233\n",
              "1     4576                   2   CI23855    374\n",
              "2     4576                   3   CI24917   1421\n",
              "3     4576                   4   CI23663    182\n",
              "4     4576                   5   CI23933    451"
            ]
          },
          "metadata": {
            "tags": []
          },
          "execution_count": 6
        }
      ]
    },
    {
      "cell_type": "code",
      "metadata": {
        "colab_type": "code",
        "id": "9WagRGOm5Zqd",
        "colab": {}
      },
      "source": [
        "# split the train and test set back from DF\n",
        "train = data.iloc[:train.shape[0]]\n",
        "test = data.iloc[train.shape[0]:]"
      ],
      "execution_count": 7,
      "outputs": []
    },
    {
      "cell_type": "code",
      "metadata": {
        "colab_type": "code",
        "id": "EpoctaDh5Zqj",
        "colab": {
          "base_uri": "https://localhost:8080/",
          "height": 272
        },
        "outputId": "36e2a114-9a9b-42a3-cb52-dc639c111d83"
      },
      "source": [
        "# groupby the user_id to generate x, y's\n",
        "train_data = train.groupby(\"user_id\")['ccode'].progress_apply(lambda x: (x.values[:10], x.values[10:]))\n",
        "# split into x and y seperately\n",
        "train_data = train_data.progress_apply(pd.Series).rename({0: \"X\", 1: \"Y\"}, axis=1)\n",
        "\n",
        "# how does it look?\n",
        "train_data.head()"
      ],
      "execution_count": 8,
      "outputs": [
        {
          "output_type": "stream",
          "text": [
            "100%|██████████| 69532/69532 [00:05<00:00, 12874.59it/s]\n",
            "100%|██████████| 69532/69532 [00:15<00:00, 4544.78it/s]\n"
          ],
          "name": "stderr"
        },
        {
          "output_type": "execute_result",
          "data": {
            "text/html": [
              "<div>\n",
              "<style scoped>\n",
              "    .dataframe tbody tr th:only-of-type {\n",
              "        vertical-align: middle;\n",
              "    }\n",
              "\n",
              "    .dataframe tbody tr th {\n",
              "        vertical-align: top;\n",
              "    }\n",
              "\n",
              "    .dataframe thead th {\n",
              "        text-align: right;\n",
              "    }\n",
              "</style>\n",
              "<table border=\"1\" class=\"dataframe\">\n",
              "  <thead>\n",
              "    <tr style=\"text-align: right;\">\n",
              "      <th></th>\n",
              "      <th>X</th>\n",
              "      <th>Y</th>\n",
              "    </tr>\n",
              "    <tr>\n",
              "      <th>user_id</th>\n",
              "      <th></th>\n",
              "      <th></th>\n",
              "    </tr>\n",
              "  </thead>\n",
              "  <tbody>\n",
              "    <tr>\n",
              "      <th>4576</th>\n",
              "      <td>[233, 374, 1421, 182, 451, 1636, 493, 1627, 14...</td>\n",
              "      <td>[1462, 186, 210]</td>\n",
              "    </tr>\n",
              "    <tr>\n",
              "      <th>4580</th>\n",
              "      <td>[182, 374, 451, 493, 1039, 233, 167, 300, 186,...</td>\n",
              "      <td>[1419, 2222, 2542]</td>\n",
              "    </tr>\n",
              "    <tr>\n",
              "      <th>4581</th>\n",
              "      <td>[2643, 2644, 2645, 2646, 2647, 2648, 2649, 265...</td>\n",
              "      <td>[2651, 2654, 2655]</td>\n",
              "    </tr>\n",
              "    <tr>\n",
              "      <th>4582</th>\n",
              "      <td>[374, 1419, 1421, 451, 182, 1462, 493, 233, 14...</td>\n",
              "      <td>[1636, 2542, 1461]</td>\n",
              "    </tr>\n",
              "    <tr>\n",
              "      <th>4585</th>\n",
              "      <td>[374, 493, 1421, 1636, 367, 233, 182, 451, 146...</td>\n",
              "      <td>[1039, 703, 1627]</td>\n",
              "    </tr>\n",
              "  </tbody>\n",
              "</table>\n",
              "</div>"
            ],
            "text/plain": [
              "                                                         X                   Y\n",
              "user_id                                                                       \n",
              "4576     [233, 374, 1421, 182, 451, 1636, 493, 1627, 14...    [1462, 186, 210]\n",
              "4580     [182, 374, 451, 493, 1039, 233, 167, 300, 186,...  [1419, 2222, 2542]\n",
              "4581     [2643, 2644, 2645, 2646, 2647, 2648, 2649, 265...  [2651, 2654, 2655]\n",
              "4582     [374, 1419, 1421, 451, 182, 1462, 493, 233, 14...  [1636, 2542, 1461]\n",
              "4585     [374, 493, 1421, 1636, 367, 233, 182, 451, 146...   [1039, 703, 1627]"
            ]
          },
          "metadata": {
            "tags": []
          },
          "execution_count": 8
        }
      ]
    },
    {
      "cell_type": "markdown",
      "metadata": {
        "id": "yQ0j1wKlW8Jz",
        "colab_type": "text"
      },
      "source": [
        "Now that we have created the dataframe by grouping by the User_ID, let's proceed with creating the partical challenges. Each row is replicated thrice, for the first row a **null padded** partical sequence is fed as *partial challenge*. For the next row the partial sequence is updated with the first prediction, rest positions are null padded and so on..\n",
        "\n",
        "Let's create a simple utility function for the purpose:"
      ]
    },
    {
      "cell_type": "code",
      "metadata": {
        "id": "lu7Ne1TX7im6",
        "colab_type": "code",
        "colab": {}
      },
      "source": [
        "def expand(row, padding=data.ccode.max()+1):\n",
        "    '''Given a DF row containing 3 values, it creates the partial \n",
        "    labels as explained above. `Padding` is the NULL PAD VALUE'''\n",
        "\n",
        "    X = row[0]\n",
        "    y = row[1]\n",
        "\n",
        "    pad = [padding] * 3\n",
        "    Y = [list(pad)]\n",
        "\n",
        "    for i in range(3):\n",
        "        temp = list(Y[-1])\n",
        "        temp[i] = y[i]\n",
        "        Y.append(temp)\n",
        "\n",
        "    return X, Y"
      ],
      "execution_count": 9,
      "outputs": []
    },
    {
      "cell_type": "code",
      "metadata": {
        "id": "32FV26j_4H0L",
        "colab_type": "code",
        "colab": {
          "base_uri": "https://localhost:8080/",
          "height": 272
        },
        "outputId": "63ec85f5-527d-41cc-ce60-8330a6d2ca88"
      },
      "source": [
        "# applying the function returns the labels replaced with partial labels\n",
        "sequence_train = train_data.progress_apply(func=expand, axis=1, result_type='expand')\n",
        "\n",
        "# Split the list into indiviual rows (3x)\n",
        "sequence_train = (sequence_train\n",
        "                  .merge(sequence_train[1]\n",
        "                  .progress_apply(pd.Series).stack()\n",
        "                  .reset_index(level=1), left_index=True, right_index=True)\n",
        ")\n",
        "\n",
        "sequence_train = sequence_train.drop([1, 'level_1'], axis=1)\n",
        "\n",
        "# we create the targets once again from the partial labels\n",
        "# but instead of having all the target challenges together \n",
        "# we have them in 3 different rows sequentially\n",
        "\n",
        "sequence_train['target'] = (sequence_train[\"0_y\"].shift(-1)\n",
        ".transform(lambda x: x[max(np.where(np.array(x) != 5502)[0], default=0)] \n",
        "           if type(x) != float else x)\n",
        ")\n",
        "\n",
        "# only retain the top three rows (since last row contains NULL value as the target)\n",
        "sequence_train = sequence_train.groupby('user_id').head(3)\n",
        "sequence_train = sequence_train.rename({\"0_x\": \"Prev_Challenges\", \"0_y\": \"P_Targets\"}, axis=1)\n",
        "# instead of 3 partial targets we retain only 2 since 3rd one is always NULL\n",
        "sequence_train['P_Targets'] = sequence_train['P_Targets'].transform(lambda x: x[:2])\n",
        "sequence_train.head()"
      ],
      "execution_count": 10,
      "outputs": [
        {
          "output_type": "stream",
          "text": [
            "100%|██████████| 69532/69532 [00:14<00:00, 4798.07it/s]\n",
            "100%|██████████| 69532/69532 [00:13<00:00, 4989.47it/s]\n"
          ],
          "name": "stderr"
        },
        {
          "output_type": "execute_result",
          "data": {
            "text/html": [
              "<div>\n",
              "<style scoped>\n",
              "    .dataframe tbody tr th:only-of-type {\n",
              "        vertical-align: middle;\n",
              "    }\n",
              "\n",
              "    .dataframe tbody tr th {\n",
              "        vertical-align: top;\n",
              "    }\n",
              "\n",
              "    .dataframe thead th {\n",
              "        text-align: right;\n",
              "    }\n",
              "</style>\n",
              "<table border=\"1\" class=\"dataframe\">\n",
              "  <thead>\n",
              "    <tr style=\"text-align: right;\">\n",
              "      <th></th>\n",
              "      <th>Prev_Challenges</th>\n",
              "      <th>P_Targets</th>\n",
              "      <th>target</th>\n",
              "    </tr>\n",
              "    <tr>\n",
              "      <th>user_id</th>\n",
              "      <th></th>\n",
              "      <th></th>\n",
              "      <th></th>\n",
              "    </tr>\n",
              "  </thead>\n",
              "  <tbody>\n",
              "    <tr>\n",
              "      <th>4576</th>\n",
              "      <td>[233, 374, 1421, 182, 451, 1636, 493, 1627, 14...</td>\n",
              "      <td>[5502, 5502]</td>\n",
              "      <td>1462.0</td>\n",
              "    </tr>\n",
              "    <tr>\n",
              "      <th>4576</th>\n",
              "      <td>[233, 374, 1421, 182, 451, 1636, 493, 1627, 14...</td>\n",
              "      <td>[1462, 5502]</td>\n",
              "      <td>186.0</td>\n",
              "    </tr>\n",
              "    <tr>\n",
              "      <th>4576</th>\n",
              "      <td>[233, 374, 1421, 182, 451, 1636, 493, 1627, 14...</td>\n",
              "      <td>[1462, 186]</td>\n",
              "      <td>210.0</td>\n",
              "    </tr>\n",
              "    <tr>\n",
              "      <th>4580</th>\n",
              "      <td>[182, 374, 451, 493, 1039, 233, 167, 300, 186,...</td>\n",
              "      <td>[5502, 5502]</td>\n",
              "      <td>1419.0</td>\n",
              "    </tr>\n",
              "    <tr>\n",
              "      <th>4580</th>\n",
              "      <td>[182, 374, 451, 493, 1039, 233, 167, 300, 186,...</td>\n",
              "      <td>[1419, 5502]</td>\n",
              "      <td>2222.0</td>\n",
              "    </tr>\n",
              "  </tbody>\n",
              "</table>\n",
              "</div>"
            ],
            "text/plain": [
              "                                           Prev_Challenges  ...  target\n",
              "user_id                                                     ...        \n",
              "4576     [233, 374, 1421, 182, 451, 1636, 493, 1627, 14...  ...  1462.0\n",
              "4576     [233, 374, 1421, 182, 451, 1636, 493, 1627, 14...  ...   186.0\n",
              "4576     [233, 374, 1421, 182, 451, 1636, 493, 1627, 14...  ...   210.0\n",
              "4580     [182, 374, 451, 493, 1039, 233, 167, 300, 186,...  ...  1419.0\n",
              "4580     [182, 374, 451, 493, 1039, 233, 167, 300, 186,...  ...  2222.0\n",
              "\n",
              "[5 rows x 3 columns]"
            ]
          },
          "metadata": {
            "tags": []
          },
          "execution_count": 10
        }
      ]
    },
    {
      "cell_type": "markdown",
      "metadata": {
        "id": "IMW5gDvGZb7w",
        "colab_type": "text"
      },
      "source": [
        "###Creating the model:\n",
        "Now that we are done creating the data, let's create the model with a simple function.\n",
        "\n",
        "    Optimum Output Dim -> min(50, InputDim/2)"
      ]
    },
    {
      "cell_type": "code",
      "metadata": {
        "id": "S9TsUZeElj40",
        "colab_type": "code",
        "colab": {}
      },
      "source": [
        "def create_em_model(odim=50):\n",
        "    pc_inp = tf.keras.layers.Input(shape=(10,))\n",
        "    pt_inp = tf.keras.layers.Input(shape=(2,))\n",
        "\n",
        "    concat = tf.keras.layers.Concatenate()([pc_inp, pt_inp])\n",
        "    em = tf.keras.layers.Embedding(input_dim=data.ccode.max()+2, output_dim=odim)(concat)\n",
        "    dropout = tf.keras.layers.Dropout(0.25)(em)\n",
        "    lstm1 = tf.keras.layers.LSTM(units=128, return_sequences=True)(dropout)\n",
        "    lstm2 = tf.keras.layers.LSTM(units=128)(lstm1)\n",
        "\n",
        "    dense1 = tf.keras.layers.Dense(units=256, activation='relu', kernel_initializer='he_normal')(lstm2)\n",
        "    dense2 = tf.keras.layers.Dense(units=256, activation='relu', kernel_initializer='he_normal')(dense1)\n",
        "\n",
        "    op = tf.keras.layers.Dense(units=data.ccode.max()+1, activation='softmax')(dense2)\n",
        "\n",
        "    model = tf.keras.models.Model(inputs=[pc_inp, pt_inp], outputs=op)\n",
        "\n",
        "    model.compile(\n",
        "        loss='sparse_categorical_crossentropy', \n",
        "        optimizer=tf.keras.optimizers.Adam(0.001), \n",
        "        metrics=tf.keras.metrics.SparseCategoricalAccuracy(\"SCAcc\"))\n",
        "\n",
        "    return model"
      ],
      "execution_count": 66,
      "outputs": []
    },
    {
      "cell_type": "code",
      "metadata": {
        "id": "VEE_kYaGJYOg",
        "colab_type": "code",
        "colab": {
          "base_uri": "https://localhost:8080/",
          "height": 34
        },
        "outputId": "b42b0989-b182-4ee5-e834-a96d4a9a3ed4"
      },
      "source": [
        "strategy = tf.distribute.MirroredStrategy()"
      ],
      "execution_count": 67,
      "outputs": [
        {
          "output_type": "stream",
          "text": [
            "INFO:tensorflow:Using MirroredStrategy with devices ('/job:localhost/replica:0/task:0/device:GPU:0',)\n"
          ],
          "name": "stdout"
        }
      ]
    },
    {
      "cell_type": "code",
      "metadata": {
        "id": "AP6oWIVeAo80",
        "colab_type": "code",
        "colab": {
          "base_uri": "https://localhost:8080/",
          "height": 521
        },
        "outputId": "07576745-7139-4278-b9cb-c07d71373d16"
      },
      "source": [
        "tf.keras.backend.clear_session()\n",
        "\n",
        "with strategy.scope():\n",
        "    model = create_em_model()\n",
        "\n",
        "model.summary()"
      ],
      "execution_count": 68,
      "outputs": [
        {
          "output_type": "stream",
          "text": [
            "Model: \"model\"\n",
            "__________________________________________________________________________________________________\n",
            "Layer (type)                    Output Shape         Param #     Connected to                     \n",
            "==================================================================================================\n",
            "input_1 (InputLayer)            [(None, 10)]         0                                            \n",
            "__________________________________________________________________________________________________\n",
            "input_2 (InputLayer)            [(None, 2)]          0                                            \n",
            "__________________________________________________________________________________________________\n",
            "concatenate (Concatenate)       (None, 12)           0           input_1[0][0]                    \n",
            "                                                                 input_2[0][0]                    \n",
            "__________________________________________________________________________________________________\n",
            "embedding (Embedding)           (None, 12, 50)       275150      concatenate[0][0]                \n",
            "__________________________________________________________________________________________________\n",
            "dropout (Dropout)               (None, 12, 50)       0           embedding[0][0]                  \n",
            "__________________________________________________________________________________________________\n",
            "lstm (LSTM)                     (None, 12, 128)      91648       dropout[0][0]                    \n",
            "__________________________________________________________________________________________________\n",
            "lstm_1 (LSTM)                   (None, 128)          131584      lstm[0][0]                       \n",
            "__________________________________________________________________________________________________\n",
            "dense (Dense)                   (None, 256)          33024       lstm_1[0][0]                     \n",
            "__________________________________________________________________________________________________\n",
            "dense_1 (Dense)                 (None, 256)          65792       dense[0][0]                      \n",
            "__________________________________________________________________________________________________\n",
            "dense_2 (Dense)                 (None, 5502)         1414014     dense_1[0][0]                    \n",
            "==================================================================================================\n",
            "Total params: 2,011,212\n",
            "Trainable params: 2,011,212\n",
            "Non-trainable params: 0\n",
            "__________________________________________________________________________________________________\n"
          ],
          "name": "stdout"
        }
      ]
    },
    {
      "cell_type": "code",
      "metadata": {
        "id": "PuoESns7y04f",
        "colab_type": "code",
        "colab": {
          "base_uri": "https://localhost:8080/",
          "height": 1000
        },
        "outputId": "494a081f-248d-46af-8055-e08ef01968fc"
      },
      "source": [
        "hist = model.fit(\n",
        "    x = [np.stack(sequence_train['Prev_Challenges']), np.stack(sequence_train['P_Targets'])],\n",
        "    y = sequence_train['target'],\n",
        "    epochs=100, validation_split=0.2, batch_size=64,\n",
        "    callbacks=[tf.keras.callbacks.EarlyStopping(patience=10, monitor='val_SCAcc', mode='max'),\n",
        "               tf.keras.callbacks.ReduceLROnPlateau(patience=5, factor=.5, verbose=1,\n",
        "                                                    monitor='val_SCAcc', mode='max')]\n",
        ")"
      ],
      "execution_count": 69,
      "outputs": [
        {
          "output_type": "stream",
          "text": [
            "Epoch 1/100\n",
            "2608/2608 [==============================] - 25s 10ms/step - SCAcc: 0.0300 - loss: 5.7209 - val_SCAcc: 0.0278 - val_loss: 5.8792 - lr: 0.0010\n",
            "Epoch 2/100\n",
            "2608/2608 [==============================] - 24s 9ms/step - SCAcc: 0.0539 - loss: 4.9003 - val_SCAcc: 0.0357 - val_loss: 5.6152 - lr: 0.0010\n",
            "Epoch 3/100\n",
            "2608/2608 [==============================] - 23s 9ms/step - SCAcc: 0.0657 - loss: 4.6486 - val_SCAcc: 0.0407 - val_loss: 5.4502 - lr: 0.0010\n",
            "Epoch 4/100\n",
            "2608/2608 [==============================] - 24s 9ms/step - SCAcc: 0.0768 - loss: 4.4897 - val_SCAcc: 0.0492 - val_loss: 5.4432 - lr: 0.0010\n",
            "Epoch 5/100\n",
            "2608/2608 [==============================] - 23s 9ms/step - SCAcc: 0.0866 - loss: 4.3650 - val_SCAcc: 0.0562 - val_loss: 5.4064 - lr: 0.0010\n",
            "Epoch 6/100\n",
            "2608/2608 [==============================] - 24s 9ms/step - SCAcc: 0.0969 - loss: 4.2595 - val_SCAcc: 0.0617 - val_loss: 5.4690 - lr: 0.0010\n",
            "Epoch 7/100\n",
            "2608/2608 [==============================] - 24s 9ms/step - SCAcc: 0.1056 - loss: 4.1667 - val_SCAcc: 0.0653 - val_loss: 5.4801 - lr: 0.0010\n",
            "Epoch 8/100\n",
            "2608/2608 [==============================] - 24s 9ms/step - SCAcc: 0.1146 - loss: 4.0896 - val_SCAcc: 0.0704 - val_loss: 5.5361 - lr: 0.0010\n",
            "Epoch 9/100\n",
            "2608/2608 [==============================] - 24s 9ms/step - SCAcc: 0.1216 - loss: 4.0178 - val_SCAcc: 0.0761 - val_loss: 5.5512 - lr: 0.0010\n",
            "Epoch 10/100\n",
            "2608/2608 [==============================] - 24s 9ms/step - SCAcc: 0.1289 - loss: 3.9537 - val_SCAcc: 0.0796 - val_loss: 5.6067 - lr: 0.0010\n",
            "Epoch 11/100\n",
            "2608/2608 [==============================] - 24s 9ms/step - SCAcc: 0.1366 - loss: 3.8967 - val_SCAcc: 0.0846 - val_loss: 5.6877 - lr: 0.0010\n",
            "Epoch 12/100\n",
            "2608/2608 [==============================] - 24s 9ms/step - SCAcc: 0.1425 - loss: 3.8382 - val_SCAcc: 0.0849 - val_loss: 5.7702 - lr: 0.0010\n",
            "Epoch 13/100\n",
            "2608/2608 [==============================] - 23s 9ms/step - SCAcc: 0.1499 - loss: 3.7875 - val_SCAcc: 0.0912 - val_loss: 5.9534 - lr: 0.0010\n",
            "Epoch 14/100\n",
            "2608/2608 [==============================] - 24s 9ms/step - SCAcc: 0.1569 - loss: 3.7399 - val_SCAcc: 0.0924 - val_loss: 5.9327 - lr: 0.0010\n",
            "Epoch 15/100\n",
            "2608/2608 [==============================] - 24s 9ms/step - SCAcc: 0.1618 - loss: 3.6950 - val_SCAcc: 0.0938 - val_loss: 5.9972 - lr: 0.0010\n",
            "Epoch 16/100\n",
            "2608/2608 [==============================] - 24s 9ms/step - SCAcc: 0.1677 - loss: 3.6514 - val_SCAcc: 0.0967 - val_loss: 6.0237 - lr: 0.0010\n",
            "Epoch 17/100\n",
            "2608/2608 [==============================] - 24s 9ms/step - SCAcc: 0.1735 - loss: 3.6119 - val_SCAcc: 0.0962 - val_loss: 6.1290 - lr: 0.0010\n",
            "Epoch 18/100\n",
            "2608/2608 [==============================] - 24s 9ms/step - SCAcc: 0.1779 - loss: 3.5739 - val_SCAcc: 0.0997 - val_loss: 6.1804 - lr: 0.0010\n",
            "Epoch 19/100\n",
            "2608/2608 [==============================] - 23s 9ms/step - SCAcc: 0.1835 - loss: 3.5398 - val_SCAcc: 0.1031 - val_loss: 6.2961 - lr: 0.0010\n",
            "Epoch 20/100\n",
            "2608/2608 [==============================] - 24s 9ms/step - SCAcc: 0.1866 - loss: 3.5075 - val_SCAcc: 0.1022 - val_loss: 6.3384 - lr: 0.0010\n",
            "Epoch 21/100\n",
            "2608/2608 [==============================] - 24s 9ms/step - SCAcc: 0.1924 - loss: 3.4752 - val_SCAcc: 0.1027 - val_loss: 6.4299 - lr: 0.0010\n",
            "Epoch 22/100\n",
            "2608/2608 [==============================] - 24s 9ms/step - SCAcc: 0.1975 - loss: 3.4445 - val_SCAcc: 0.1042 - val_loss: 6.4510 - lr: 0.0010\n",
            "Epoch 23/100\n",
            "2608/2608 [==============================] - 24s 9ms/step - SCAcc: 0.2006 - loss: 3.4190 - val_SCAcc: 0.1041 - val_loss: 6.6284 - lr: 0.0010\n",
            "Epoch 24/100\n",
            "2608/2608 [==============================] - 24s 9ms/step - SCAcc: 0.2077 - loss: 3.3895 - val_SCAcc: 0.1018 - val_loss: 6.6194 - lr: 0.0010\n",
            "Epoch 25/100\n",
            "2608/2608 [==============================] - 24s 9ms/step - SCAcc: 0.2099 - loss: 3.3632 - val_SCAcc: 0.1048 - val_loss: 6.6949 - lr: 0.0010\n",
            "Epoch 26/100\n",
            "2608/2608 [==============================] - 23s 9ms/step - SCAcc: 0.2142 - loss: 3.3402 - val_SCAcc: 0.1050 - val_loss: 6.7261 - lr: 0.0010\n",
            "Epoch 27/100\n",
            "2608/2608 [==============================] - 24s 9ms/step - SCAcc: 0.2184 - loss: 3.3136 - val_SCAcc: 0.1068 - val_loss: 6.7848 - lr: 0.0010\n",
            "Epoch 28/100\n",
            "2608/2608 [==============================] - 24s 9ms/step - SCAcc: 0.2232 - loss: 3.2923 - val_SCAcc: 0.1065 - val_loss: 6.8196 - lr: 0.0010\n",
            "Epoch 29/100\n",
            "2608/2608 [==============================] - 24s 9ms/step - SCAcc: 0.2257 - loss: 3.2669 - val_SCAcc: 0.1057 - val_loss: 6.9749 - lr: 0.0010\n",
            "Epoch 30/100\n",
            "2608/2608 [==============================] - 24s 9ms/step - SCAcc: 0.2293 - loss: 3.2534 - val_SCAcc: 0.1065 - val_loss: 7.0460 - lr: 0.0010\n",
            "Epoch 31/100\n",
            "2608/2608 [==============================] - 24s 9ms/step - SCAcc: 0.2342 - loss: 3.2275 - val_SCAcc: 0.1077 - val_loss: 7.1169 - lr: 0.0010\n",
            "Epoch 32/100\n",
            "2608/2608 [==============================] - 24s 9ms/step - SCAcc: 0.2365 - loss: 3.2081 - val_SCAcc: 0.1065 - val_loss: 7.1427 - lr: 0.0010\n",
            "Epoch 33/100\n",
            "2608/2608 [==============================] - 23s 9ms/step - SCAcc: 0.2385 - loss: 3.1890 - val_SCAcc: 0.1062 - val_loss: 7.2534 - lr: 0.0010\n",
            "Epoch 34/100\n",
            "2608/2608 [==============================] - 24s 9ms/step - SCAcc: 0.2410 - loss: 3.1737 - val_SCAcc: 0.1064 - val_loss: 7.2099 - lr: 0.0010\n",
            "Epoch 35/100\n",
            "2608/2608 [==============================] - 24s 9ms/step - SCAcc: 0.2445 - loss: 3.1572 - val_SCAcc: 0.1078 - val_loss: 7.2357 - lr: 0.0010\n",
            "Epoch 36/100\n",
            "2608/2608 [==============================] - 23s 9ms/step - SCAcc: 0.2485 - loss: 3.1397 - val_SCAcc: 0.1069 - val_loss: 7.3807 - lr: 0.0010\n",
            "Epoch 37/100\n",
            "2608/2608 [==============================] - 23s 9ms/step - SCAcc: 0.2515 - loss: 3.1240 - val_SCAcc: 0.1078 - val_loss: 7.3808 - lr: 0.0010\n",
            "Epoch 38/100\n",
            "2608/2608 [==============================] - 24s 9ms/step - SCAcc: 0.2544 - loss: 3.1041 - val_SCAcc: 0.1075 - val_loss: 7.4161 - lr: 0.0010\n",
            "Epoch 39/100\n",
            "2608/2608 [==============================] - 24s 9ms/step - SCAcc: 0.2562 - loss: 3.0912 - val_SCAcc: 0.1077 - val_loss: 7.3748 - lr: 0.0010\n",
            "Epoch 40/100\n",
            "2608/2608 [==============================] - 23s 9ms/step - SCAcc: 0.2614 - loss: 3.0716 - val_SCAcc: 0.1089 - val_loss: 7.3543 - lr: 0.0010\n",
            "Epoch 41/100\n",
            "2608/2608 [==============================] - 24s 9ms/step - SCAcc: 0.2625 - loss: 3.0655 - val_SCAcc: 0.1086 - val_loss: 7.5372 - lr: 0.0010\n",
            "Epoch 42/100\n",
            "2608/2608 [==============================] - 24s 9ms/step - SCAcc: 0.2661 - loss: 3.0470 - val_SCAcc: 0.1071 - val_loss: 7.6479 - lr: 0.0010\n",
            "Epoch 43/100\n",
            "2608/2608 [==============================] - 24s 9ms/step - SCAcc: 0.2674 - loss: 3.0331 - val_SCAcc: 0.1070 - val_loss: 7.7081 - lr: 0.0010\n",
            "Epoch 44/100\n",
            "2608/2608 [==============================] - 24s 9ms/step - SCAcc: 0.2700 - loss: 3.0212 - val_SCAcc: 0.1087 - val_loss: 7.6009 - lr: 0.0010\n",
            "Epoch 45/100\n",
            "2604/2608 [============================>.] - ETA: 0s - SCAcc: 0.2741 - loss: 3.0032\n",
            "Epoch 00045: ReduceLROnPlateau reducing learning rate to 0.0005000000237487257.\n",
            "2608/2608 [==============================] - 24s 9ms/step - SCAcc: 0.2741 - loss: 3.0031 - val_SCAcc: 0.1086 - val_loss: 7.7690 - lr: 0.0010\n",
            "Epoch 46/100\n",
            "2608/2608 [==============================] - 24s 9ms/step - SCAcc: 0.3003 - loss: 2.8703 - val_SCAcc: 0.1129 - val_loss: 8.2321 - lr: 5.0000e-04\n",
            "Epoch 47/100\n",
            "2608/2608 [==============================] - 24s 9ms/step - SCAcc: 0.3080 - loss: 2.8268 - val_SCAcc: 0.1146 - val_loss: 8.1752 - lr: 5.0000e-04\n",
            "Epoch 48/100\n",
            "2608/2608 [==============================] - 23s 9ms/step - SCAcc: 0.3120 - loss: 2.8080 - val_SCAcc: 0.1148 - val_loss: 8.3274 - lr: 5.0000e-04\n",
            "Epoch 49/100\n",
            "2608/2608 [==============================] - 24s 9ms/step - SCAcc: 0.3156 - loss: 2.7890 - val_SCAcc: 0.1118 - val_loss: 8.4111 - lr: 5.0000e-04\n",
            "Epoch 50/100\n",
            "2608/2608 [==============================] - 24s 9ms/step - SCAcc: 0.3185 - loss: 2.7762 - val_SCAcc: 0.1144 - val_loss: 8.4259 - lr: 5.0000e-04\n",
            "Epoch 51/100\n",
            "2608/2608 [==============================] - 23s 9ms/step - SCAcc: 0.3198 - loss: 2.7664 - val_SCAcc: 0.1134 - val_loss: 8.4397 - lr: 5.0000e-04\n",
            "Epoch 52/100\n",
            "2608/2608 [==============================] - 24s 9ms/step - SCAcc: 0.3220 - loss: 2.7595 - val_SCAcc: 0.1141 - val_loss: 8.5896 - lr: 5.0000e-04\n",
            "Epoch 53/100\n",
            "2605/2608 [============================>.] - ETA: 0s - SCAcc: 0.3250 - loss: 2.7446\n",
            "Epoch 00053: ReduceLROnPlateau reducing learning rate to 0.0002500000118743628.\n",
            "2608/2608 [==============================] - 24s 9ms/step - SCAcc: 0.3250 - loss: 2.7447 - val_SCAcc: 0.1145 - val_loss: 8.6295 - lr: 5.0000e-04\n",
            "Epoch 54/100\n",
            "2608/2608 [==============================] - 24s 9ms/step - SCAcc: 0.3400 - loss: 2.6717 - val_SCAcc: 0.1164 - val_loss: 8.8792 - lr: 2.5000e-04\n",
            "Epoch 55/100\n",
            "2608/2608 [==============================] - 24s 9ms/step - SCAcc: 0.3450 - loss: 2.6504 - val_SCAcc: 0.1152 - val_loss: 8.8788 - lr: 2.5000e-04\n",
            "Epoch 56/100\n",
            "2608/2608 [==============================] - 24s 9ms/step - SCAcc: 0.3472 - loss: 2.6377 - val_SCAcc: 0.1163 - val_loss: 8.9803 - lr: 2.5000e-04\n",
            "Epoch 57/100\n",
            "2608/2608 [==============================] - 24s 9ms/step - SCAcc: 0.3501 - loss: 2.6291 - val_SCAcc: 0.1157 - val_loss: 8.9843 - lr: 2.5000e-04\n",
            "Epoch 58/100\n",
            "2608/2608 [==============================] - 24s 9ms/step - SCAcc: 0.3506 - loss: 2.6225 - val_SCAcc: 0.1149 - val_loss: 9.0085 - lr: 2.5000e-04\n",
            "Epoch 59/100\n",
            "2604/2608 [============================>.] - ETA: 0s - SCAcc: 0.3527 - loss: 2.6132\n",
            "Epoch 00059: ReduceLROnPlateau reducing learning rate to 0.0001250000059371814.\n",
            "2608/2608 [==============================] - 24s 9ms/step - SCAcc: 0.3528 - loss: 2.6129 - val_SCAcc: 0.1148 - val_loss: 9.1707 - lr: 2.5000e-04\n",
            "Epoch 60/100\n",
            "2608/2608 [==============================] - 25s 9ms/step - SCAcc: 0.3608 - loss: 2.5774 - val_SCAcc: 0.1160 - val_loss: 9.2400 - lr: 1.2500e-04\n",
            "Epoch 61/100\n",
            "2608/2608 [==============================] - 24s 9ms/step - SCAcc: 0.3624 - loss: 2.5667 - val_SCAcc: 0.1161 - val_loss: 9.2397 - lr: 1.2500e-04\n",
            "Epoch 62/100\n",
            "2608/2608 [==============================] - 24s 9ms/step - SCAcc: 0.3641 - loss: 2.5605 - val_SCAcc: 0.1171 - val_loss: 9.2651 - lr: 1.2500e-04\n",
            "Epoch 63/100\n",
            "2608/2608 [==============================] - 24s 9ms/step - SCAcc: 0.3661 - loss: 2.5504 - val_SCAcc: 0.1156 - val_loss: 9.3615 - lr: 1.2500e-04\n",
            "Epoch 64/100\n",
            "2608/2608 [==============================] - 24s 9ms/step - SCAcc: 0.3676 - loss: 2.5479 - val_SCAcc: 0.1164 - val_loss: 9.3625 - lr: 1.2500e-04\n",
            "Epoch 65/100\n",
            "2608/2608 [==============================] - 24s 9ms/step - SCAcc: 0.3675 - loss: 2.5462 - val_SCAcc: 0.1169 - val_loss: 9.3547 - lr: 1.2500e-04\n",
            "Epoch 66/100\n",
            "2608/2608 [==============================] - 24s 9ms/step - SCAcc: 0.3681 - loss: 2.5405 - val_SCAcc: 0.1161 - val_loss: 9.4792 - lr: 1.2500e-04\n",
            "Epoch 67/100\n",
            "2607/2608 [============================>.] - ETA: 0s - SCAcc: 0.3683 - loss: 2.5372\n",
            "Epoch 00067: ReduceLROnPlateau reducing learning rate to 6.25000029685907e-05.\n",
            "2608/2608 [==============================] - 24s 9ms/step - SCAcc: 0.3683 - loss: 2.5373 - val_SCAcc: 0.1169 - val_loss: 9.4295 - lr: 1.2500e-04\n",
            "Epoch 68/100\n",
            "2608/2608 [==============================] - 24s 9ms/step - SCAcc: 0.3723 - loss: 2.5185 - val_SCAcc: 0.1167 - val_loss: 9.4837 - lr: 6.2500e-05\n",
            "Epoch 69/100\n",
            "2608/2608 [==============================] - 24s 9ms/step - SCAcc: 0.3742 - loss: 2.5159 - val_SCAcc: 0.1171 - val_loss: 9.4916 - lr: 6.2500e-05\n",
            "Epoch 70/100\n",
            "2608/2608 [==============================] - 24s 9ms/step - SCAcc: 0.3750 - loss: 2.5117 - val_SCAcc: 0.1174 - val_loss: 9.5330 - lr: 6.2500e-05\n",
            "Epoch 71/100\n",
            "2608/2608 [==============================] - 24s 9ms/step - SCAcc: 0.3752 - loss: 2.5087 - val_SCAcc: 0.1169 - val_loss: 9.5049 - lr: 6.2500e-05\n",
            "Epoch 72/100\n",
            "2608/2608 [==============================] - 24s 9ms/step - SCAcc: 0.3760 - loss: 2.5044 - val_SCAcc: 0.1168 - val_loss: 9.5548 - lr: 6.2500e-05\n",
            "Epoch 73/100\n",
            "2608/2608 [==============================] - 24s 9ms/step - SCAcc: 0.3757 - loss: 2.5077 - val_SCAcc: 0.1166 - val_loss: 9.5572 - lr: 6.2500e-05\n",
            "Epoch 74/100\n",
            "2608/2608 [==============================] - 24s 9ms/step - SCAcc: 0.3768 - loss: 2.5008 - val_SCAcc: 0.1166 - val_loss: 9.5676 - lr: 6.2500e-05\n",
            "Epoch 75/100\n",
            "2603/2608 [============================>.] - ETA: 0s - SCAcc: 0.3780 - loss: 2.4999\n",
            "Epoch 00075: ReduceLROnPlateau reducing learning rate to 3.125000148429535e-05.\n",
            "2608/2608 [==============================] - 24s 9ms/step - SCAcc: 0.3781 - loss: 2.4995 - val_SCAcc: 0.1168 - val_loss: 9.6012 - lr: 6.2500e-05\n",
            "Epoch 76/100\n",
            "2608/2608 [==============================] - 24s 9ms/step - SCAcc: 0.3801 - loss: 2.4870 - val_SCAcc: 0.1170 - val_loss: 9.6197 - lr: 3.1250e-05\n",
            "Epoch 77/100\n",
            "2608/2608 [==============================] - 24s 9ms/step - SCAcc: 0.3811 - loss: 2.4858 - val_SCAcc: 0.1170 - val_loss: 9.6425 - lr: 3.1250e-05\n",
            "Epoch 78/100\n",
            "2608/2608 [==============================] - 24s 9ms/step - SCAcc: 0.3806 - loss: 2.4846 - val_SCAcc: 0.1173 - val_loss: 9.6447 - lr: 3.1250e-05\n",
            "Epoch 79/100\n",
            "2608/2608 [==============================] - 24s 9ms/step - SCAcc: 0.3802 - loss: 2.4875 - val_SCAcc: 0.1169 - val_loss: 9.6280 - lr: 3.1250e-05\n",
            "Epoch 80/100\n",
            "2608/2608 [==============================] - ETA: 0s - SCAcc: 0.3817 - loss: 2.4796\n",
            "Epoch 00080: ReduceLROnPlateau reducing learning rate to 1.5625000742147677e-05.\n",
            "2608/2608 [==============================] - 24s 9ms/step - SCAcc: 0.3817 - loss: 2.4796 - val_SCAcc: 0.1165 - val_loss: 9.6417 - lr: 3.1250e-05\n"
          ],
          "name": "stdout"
        }
      ]
    },
    {
      "cell_type": "code",
      "metadata": {
        "id": "fX0-NgN7AbEX",
        "colab_type": "code",
        "colab": {
          "base_uri": "https://localhost:8080/",
          "height": 655
        },
        "outputId": "b9da0dff-695f-4b59-8ebb-f62bfa8294cf"
      },
      "source": [
        "temp = pd.DataFrame(hist.history)\n",
        "temp[[\"loss\", 'val_loss']].plot(figsize=(15, 5), title=\"Loss Plot\");\n",
        "temp[[\"SCAcc\", 'val_SCAcc']].plot(figsize=(15, 5), title=\"Metric Plot\");"
      ],
      "execution_count": 70,
      "outputs": [
        {
          "output_type": "display_data",
          "data": {
            "image/png": "[encoded data removed]",
            "text/plain": [
              "<Figure size 1080x360 with 1 Axes>"
            ]
          },
          "metadata": {
            "tags": [],
            "needs_background": "dark"
          }
        },
        {
          "output_type": "display_data",
          "data": {
            "image/png": "[encoded data removed]",
            "text/plain": [
              "<Figure size 1080x360 with 1 Axes>"
            ]
          },
          "metadata": {
            "tags": [],
            "needs_background": "dark"
          }
        }
      ]
    },
    {
      "cell_type": "markdown",
      "metadata": {
        "id": "vsCDXUVsaFw4",
        "colab_type": "text"
      },
      "source": [
        "#### Model Prediction:\n",
        "Let's now predict with the test data. It requires a bit of \n",
        "preprocessing:"
      ]
    },
    {
      "cell_type": "code",
      "metadata": {
        "id": "enkxH6KjsdJW",
        "colab_type": "code",
        "colab": {
          "base_uri": "https://localhost:8080/",
          "height": 255
        },
        "outputId": "a81effdd-49aa-4a6b-d5fc-550cbdac1c3d"
      },
      "source": [
        "# repeat the same for the test dataset\n",
        "test_data = pd.DataFrame({\"X\": test.groupby(\"user_id\")['ccode'].progress_apply(lambda x: x.values)})\n",
        "test_data.head()"
      ],
      "execution_count": 71,
      "outputs": [
        {
          "output_type": "stream",
          "text": [
            "100%|██████████| 39732/39732 [00:03<00:00, 12816.93it/s]\n"
          ],
          "name": "stderr"
        },
        {
          "output_type": "execute_result",
          "data": {
            "text/html": [
              "<div>\n",
              "<style scoped>\n",
              "    .dataframe tbody tr th:only-of-type {\n",
              "        vertical-align: middle;\n",
              "    }\n",
              "\n",
              "    .dataframe tbody tr th {\n",
              "        vertical-align: top;\n",
              "    }\n",
              "\n",
              "    .dataframe thead th {\n",
              "        text-align: right;\n",
              "    }\n",
              "</style>\n",
              "<table border=\"1\" class=\"dataframe\">\n",
              "  <thead>\n",
              "    <tr style=\"text-align: right;\">\n",
              "      <th></th>\n",
              "      <th>X</th>\n",
              "    </tr>\n",
              "    <tr>\n",
              "      <th>user_id</th>\n",
              "      <th></th>\n",
              "    </tr>\n",
              "  </thead>\n",
              "  <tbody>\n",
              "    <tr>\n",
              "      <th>4577</th>\n",
              "      <td>[374, 451, 1421, 1419, 233, 182, 1462, 1636, 2...</td>\n",
              "    </tr>\n",
              "    <tr>\n",
              "      <th>4578</th>\n",
              "      <td>[182, 374, 1421, 451, 493, 233, 1636, 1419, 14...</td>\n",
              "    </tr>\n",
              "    <tr>\n",
              "      <th>4579</th>\n",
              "      <td>[3421, 3422, 3423, 3424, 3425, 3426, 3427, 342...</td>\n",
              "    </tr>\n",
              "    <tr>\n",
              "      <th>4583</th>\n",
              "      <td>[182, 374, 493, 233, 367, 451, 1636, 300, 1039...</td>\n",
              "    </tr>\n",
              "    <tr>\n",
              "      <th>4584</th>\n",
              "      <td>[374, 493, 1636, 367, 233, 1421, 447, 2228, 16...</td>\n",
              "    </tr>\n",
              "  </tbody>\n",
              "</table>\n",
              "</div>"
            ],
            "text/plain": [
              "                                                         X\n",
              "user_id                                                   \n",
              "4577     [374, 451, 1421, 1419, 233, 182, 1462, 1636, 2...\n",
              "4578     [182, 374, 1421, 451, 493, 233, 1636, 1419, 14...\n",
              "4579     [3421, 3422, 3423, 3424, 3425, 3426, 3427, 342...\n",
              "4583     [182, 374, 493, 233, 367, 451, 1636, 300, 1039...\n",
              "4584     [374, 493, 1636, 367, 233, 1421, 447, 2228, 16..."
            ]
          },
          "metadata": {
            "tags": []
          },
          "execution_count": 71
        }
      ]
    },
    {
      "cell_type": "code",
      "metadata": {
        "id": "trgzGC-msdON",
        "colab_type": "code",
        "colab": {
          "base_uri": "https://localhost:8080/",
          "height": 237
        },
        "outputId": "872a5f79-49fa-47e2-86d6-136287e6c7ce"
      },
      "source": [
        "# intially partial challenge is fully NULL padded\n",
        "pad_ = np.repeat(np.array([data.ccode.max()+1] * 2).reshape(1, -1), repeats=len(test_data), axis=0)\n",
        "\n",
        "for i in range(2): # repeat 3x (last time we do it outside loop)\n",
        "    pred = model.predict(\n",
        "        [np.stack(test_data.X),\n",
        "        pad_]\n",
        "    )\n",
        "\n",
        "    test_data['Y'+str(i+1)] = np.argmax(pred, axis=1)\n",
        "    # update the partial challenge with predicted value\n",
        "    pad_[:, i] = test_data['Y'+str(i+1)]\n",
        "\n",
        "pred = model.predict(\n",
        "    [np.stack(test_data.X), \n",
        "     pad_]\n",
        ")\n",
        "\n",
        "# for the pred obtained, argsort to find the top 3 likely recommendations\n",
        "temp = np.argsort(pred, axis=1)[..., -1:-4:-1]\n",
        "test_data['Y_Final'] = list(temp)\n",
        "test_data.head()"
      ],
      "execution_count": 72,
      "outputs": [
        {
          "output_type": "execute_result",
          "data": {
            "text/html": [
              "<div>\n",
              "<style scoped>\n",
              "    .dataframe tbody tr th:only-of-type {\n",
              "        vertical-align: middle;\n",
              "    }\n",
              "\n",
              "    .dataframe tbody tr th {\n",
              "        vertical-align: top;\n",
              "    }\n",
              "\n",
              "    .dataframe thead th {\n",
              "        text-align: right;\n",
              "    }\n",
              "</style>\n",
              "<table border=\"1\" class=\"dataframe\">\n",
              "  <thead>\n",
              "    <tr style=\"text-align: right;\">\n",
              "      <th></th>\n",
              "      <th>X</th>\n",
              "      <th>Y1</th>\n",
              "      <th>Y2</th>\n",
              "      <th>Y_Final</th>\n",
              "    </tr>\n",
              "    <tr>\n",
              "      <th>user_id</th>\n",
              "      <th></th>\n",
              "      <th></th>\n",
              "      <th></th>\n",
              "      <th></th>\n",
              "    </tr>\n",
              "  </thead>\n",
              "  <tbody>\n",
              "    <tr>\n",
              "      <th>4577</th>\n",
              "      <td>[374, 451, 1421, 1419, 233, 182, 1462, 1636, 2...</td>\n",
              "      <td>2222</td>\n",
              "      <td>399</td>\n",
              "      <td>[2542, 210, 399]</td>\n",
              "    </tr>\n",
              "    <tr>\n",
              "      <th>4578</th>\n",
              "      <td>[182, 374, 1421, 451, 493, 233, 1636, 1419, 14...</td>\n",
              "      <td>1462</td>\n",
              "      <td>210</td>\n",
              "      <td>[210, 655, 1462]</td>\n",
              "    </tr>\n",
              "    <tr>\n",
              "      <th>4579</th>\n",
              "      <td>[3421, 3422, 3423, 3424, 3425, 3426, 3427, 342...</td>\n",
              "      <td>3433</td>\n",
              "      <td>3433</td>\n",
              "      <td>[3532, 3437, 3533]</td>\n",
              "    </tr>\n",
              "    <tr>\n",
              "      <th>4583</th>\n",
              "      <td>[182, 374, 493, 233, 367, 451, 1636, 300, 1039...</td>\n",
              "      <td>1421</td>\n",
              "      <td>1421</td>\n",
              "      <td>[1462, 2228, 1421]</td>\n",
              "    </tr>\n",
              "    <tr>\n",
              "      <th>4584</th>\n",
              "      <td>[374, 493, 1636, 367, 233, 1421, 447, 2228, 16...</td>\n",
              "      <td>182</td>\n",
              "      <td>1462</td>\n",
              "      <td>[1462, 1457, 182]</td>\n",
              "    </tr>\n",
              "  </tbody>\n",
              "</table>\n",
              "</div>"
            ],
            "text/plain": [
              "                                                         X  ...             Y_Final\n",
              "user_id                                                     ...                    \n",
              "4577     [374, 451, 1421, 1419, 233, 182, 1462, 1636, 2...  ...    [2542, 210, 399]\n",
              "4578     [182, 374, 1421, 451, 493, 233, 1636, 1419, 14...  ...    [210, 655, 1462]\n",
              "4579     [3421, 3422, 3423, 3424, 3425, 3426, 3427, 342...  ...  [3532, 3437, 3533]\n",
              "4583     [182, 374, 493, 233, 367, 451, 1636, 300, 1039...  ...  [1462, 2228, 1421]\n",
              "4584     [374, 493, 1636, 367, 233, 1421, 447, 2228, 16...  ...   [1462, 1457, 182]\n",
              "\n",
              "[5 rows x 4 columns]"
            ]
          },
          "metadata": {
            "tags": []
          },
          "execution_count": 72
        }
      ]
    },
    {
      "cell_type": "markdown",
      "metadata": {
        "id": "AWhgHh7OasHf",
        "colab_type": "text"
      },
      "source": [
        "Now that we have the top 5 recommendations in that order, we find that some recommendations are recurring, `Y_Final` will help us with that issue, we will only retain the top 3 unique challenge recommendations:"
      ]
    },
    {
      "cell_type": "code",
      "metadata": {
        "id": "DoMUzd_Mfz5W",
        "colab_type": "code",
        "colab": {
          "base_uri": "https://localhost:8080/",
          "height": 52
        },
        "outputId": "b33b3160-ca00-490a-9a1c-aa437607fdf8"
      },
      "source": [
        "temp = (\n",
        "    test_data.progress_apply(\n",
        "        lambda x: np.unique([x['Y1'], x['Y2'], *x['Y_Final']])[:3], # only top 3\n",
        "        axis=1)\n",
        "    .progress_apply(pd.Series)\n",
        "    .stack()\n",
        "    .reset_index(level=1)\n",
        ")\n",
        "\n",
        "# map code back to challenge IDs\n",
        "temp[0] = temp[0].map(rev_mapping)\n",
        "temp['user_sequence'] = (temp.index.astype(str) + \"_1\").values + (temp.level_1 + 1).astype(str).values\n",
        "\n",
        "# make the submission file\n",
        "temp.rename({0: 'challenge'}, axis=1).iloc[:, [-1, -2]].to_csv('seq_pred_sub.csv', index=False)"
      ],
      "execution_count": 73,
      "outputs": [
        {
          "output_type": "stream",
          "text": [
            "100%|██████████| 39732/39732 [00:07<00:00, 5416.16it/s]\n",
            "100%|██████████| 39732/39732 [00:07<00:00, 5002.68it/s] \n"
          ],
          "name": "stderr"
        }
      ]
    },
    {
      "cell_type": "markdown",
      "metadata": {
        "id": "gD9G6gunbK9j",
        "colab_type": "text"
      },
      "source": [
        "This model predictions scores: 0.13673488328924777 on the leaderboard.\n"
      ]
    }
  ]
}